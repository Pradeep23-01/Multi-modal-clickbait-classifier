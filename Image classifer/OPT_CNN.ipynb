{
  "nbformat": 4,
  "nbformat_minor": 0,
  "metadata": {
    "colab": {
      "provenance": []
    },
    "kernelspec": {
      "name": "python3",
      "display_name": "Python 3"
    },
    "language_info": {
      "name": "python"
    },
    "accelerator": "GPU",
    "gpuClass": "standard"
  },
  "cells": [
    {
      "cell_type": "code",
      "source": [
        "class A:\n",
        "  def test(self):\n",
        "    print('a')\n",
        "class B(A):\n",
        "  def test(self):\n",
        "    print('b')\n",
        "class C(A):\n",
        "  def test(self):\n",
        "    print('c')\n",
        "class D(B, C):\n",
        "  def test2(self):\n",
        "    print('d')\n",
        "o = D()\n",
        "o.test()"
      ],
      "metadata": {
        "colab": {
          "base_uri": "https://localhost:8080/"
        },
        "id": "0duY5qTmdiYM",
        "outputId": "9392eb1c-aa04-47c9-b898-b05e675451b1"
      },
      "execution_count": null,
      "outputs": [
        {
          "output_type": "stream",
          "name": "stdout",
          "text": [
            "b\n"
          ]
        }
      ]
    },
    {
      "cell_type": "code",
      "source": [
        "from google.colab import drive\n",
        "drive.mount(\"/content/drive\")"
      ],
      "metadata": {
        "id": "9q8Pj2FFiM4i",
        "colab": {
          "base_uri": "https://localhost:8080/"
        },
        "outputId": "d01fe69d-cb7c-42d6-e581-0b26eaa464e0"
      },
      "execution_count": null,
      "outputs": [
        {
          "output_type": "stream",
          "name": "stdout",
          "text": [
            "Drive already mounted at /content/drive; to attempt to forcibly remount, call drive.mount(\"/content/drive\", force_remount=True).\n"
          ]
        }
      ]
    },
    {
      "cell_type": "markdown",
      "source": [
        "# Importing Modules"
      ],
      "metadata": {
        "id": "3PyHgLcriSmB"
      }
    },
    {
      "cell_type": "code",
      "source": [
        "!pip install livelossplot"
      ],
      "metadata": {
        "colab": {
          "base_uri": "https://localhost:8080/"
        },
        "id": "yIZ_oZSdwy-l",
        "outputId": "f962426b-d724-418d-d3c3-849a8983e0dd"
      },
      "execution_count": null,
      "outputs": [
        {
          "output_type": "stream",
          "name": "stdout",
          "text": [
            "Looking in indexes: https://pypi.org/simple, https://us-python.pkg.dev/colab-wheels/public/simple/\n",
            "Collecting livelossplot\n",
            "  Downloading livelossplot-0.5.5-py3-none-any.whl (22 kB)\n",
            "Requirement already satisfied: ipython==7.* in /usr/local/lib/python3.7/dist-packages (from livelossplot) (7.9.0)\n",
            "Requirement already satisfied: bokeh in /usr/local/lib/python3.7/dist-packages (from livelossplot) (2.3.3)\n",
            "Requirement already satisfied: numpy<1.22 in /usr/local/lib/python3.7/dist-packages (from livelossplot) (1.21.6)\n",
            "Requirement already satisfied: matplotlib in /usr/local/lib/python3.7/dist-packages (from livelossplot) (3.2.2)\n",
            "Requirement already satisfied: setuptools>=18.5 in /usr/local/lib/python3.7/dist-packages (from ipython==7.*->livelossplot) (57.4.0)\n",
            "Requirement already satisfied: pygments in /usr/local/lib/python3.7/dist-packages (from ipython==7.*->livelossplot) (2.6.1)\n",
            "Collecting jedi>=0.10\n",
            "  Downloading jedi-0.18.2-py2.py3-none-any.whl (1.6 MB)\n",
            "\u001b[K     |████████████████████████████████| 1.6 MB 31.0 MB/s \n",
            "\u001b[?25hRequirement already satisfied: prompt-toolkit<2.1.0,>=2.0.0 in /usr/local/lib/python3.7/dist-packages (from ipython==7.*->livelossplot) (2.0.10)\n",
            "Requirement already satisfied: pexpect in /usr/local/lib/python3.7/dist-packages (from ipython==7.*->livelossplot) (4.8.0)\n",
            "Requirement already satisfied: traitlets>=4.2 in /usr/local/lib/python3.7/dist-packages (from ipython==7.*->livelossplot) (5.1.1)\n",
            "Requirement already satisfied: backcall in /usr/local/lib/python3.7/dist-packages (from ipython==7.*->livelossplot) (0.2.0)\n",
            "Requirement already satisfied: pickleshare in /usr/local/lib/python3.7/dist-packages (from ipython==7.*->livelossplot) (0.7.5)\n",
            "Requirement already satisfied: decorator in /usr/local/lib/python3.7/dist-packages (from ipython==7.*->livelossplot) (4.4.2)\n",
            "Requirement already satisfied: parso<0.9.0,>=0.8.0 in /usr/local/lib/python3.7/dist-packages (from jedi>=0.10->ipython==7.*->livelossplot) (0.8.3)\n",
            "Requirement already satisfied: six>=1.9.0 in /usr/local/lib/python3.7/dist-packages (from prompt-toolkit<2.1.0,>=2.0.0->ipython==7.*->livelossplot) (1.15.0)\n",
            "Requirement already satisfied: wcwidth in /usr/local/lib/python3.7/dist-packages (from prompt-toolkit<2.1.0,>=2.0.0->ipython==7.*->livelossplot) (0.2.5)\n",
            "Requirement already satisfied: typing-extensions>=3.7.4 in /usr/local/lib/python3.7/dist-packages (from bokeh->livelossplot) (4.1.1)\n",
            "Requirement already satisfied: python-dateutil>=2.1 in /usr/local/lib/python3.7/dist-packages (from bokeh->livelossplot) (2.8.2)\n",
            "Requirement already satisfied: Jinja2>=2.9 in /usr/local/lib/python3.7/dist-packages (from bokeh->livelossplot) (2.11.3)\n",
            "Requirement already satisfied: tornado>=5.1 in /usr/local/lib/python3.7/dist-packages (from bokeh->livelossplot) (6.0.4)\n",
            "Requirement already satisfied: pillow>=7.1.0 in /usr/local/lib/python3.7/dist-packages (from bokeh->livelossplot) (7.1.2)\n",
            "Requirement already satisfied: packaging>=16.8 in /usr/local/lib/python3.7/dist-packages (from bokeh->livelossplot) (21.3)\n",
            "Requirement already satisfied: PyYAML>=3.10 in /usr/local/lib/python3.7/dist-packages (from bokeh->livelossplot) (6.0)\n",
            "Requirement already satisfied: MarkupSafe>=0.23 in /usr/local/lib/python3.7/dist-packages (from Jinja2>=2.9->bokeh->livelossplot) (2.0.1)\n",
            "Requirement already satisfied: pyparsing!=3.0.5,>=2.0.2 in /usr/local/lib/python3.7/dist-packages (from packaging>=16.8->bokeh->livelossplot) (3.0.9)\n",
            "Requirement already satisfied: cycler>=0.10 in /usr/local/lib/python3.7/dist-packages (from matplotlib->livelossplot) (0.11.0)\n",
            "Requirement already satisfied: kiwisolver>=1.0.1 in /usr/local/lib/python3.7/dist-packages (from matplotlib->livelossplot) (1.4.4)\n",
            "Requirement already satisfied: ptyprocess>=0.5 in /usr/local/lib/python3.7/dist-packages (from pexpect->ipython==7.*->livelossplot) (0.7.0)\n",
            "Installing collected packages: jedi, livelossplot\n",
            "Successfully installed jedi-0.18.2 livelossplot-0.5.5\n"
          ]
        }
      ]
    },
    {
      "cell_type": "code",
      "execution_count": null,
      "metadata": {
        "id": "nT4rg7yAhzrX"
      },
      "outputs": [],
      "source": [
        "import matplotlib.pyplot as plt\n",
        "import numpy as np\n",
        "import pandas as pd\n",
        "import json\n",
        "import os\n",
        "from sklearn.model_selection import train_test_split\n",
        "from sklearn.metrics import classification_report\n",
        "import tensorflow as tf\n",
        "from keras.callbacks import ModelCheckpoint, EarlyStopping\n",
        "from keras.models import Model\n",
        "import re\n",
        "from livelossplot.inputs.keras import PlotLossesCallback\n",
        "from keras.applications.vgg16 import VGG16, preprocess_input\n",
        "from tqdm import tqdm\n",
        "import cv2\n",
        "import keras\n",
        "from keras.datasets import mnist\n",
        "from keras.models import Sequential\n",
        "from keras.layers import Dense, Dropout, Flatten, Lambda\n",
        "from keras.layers import Conv2D, MaxPooling2D, BatchNormalization\n",
        "from keras.optimizers import Adam"
      ]
    },
    {
      "cell_type": "markdown",
      "source": [
        "# DataLoader"
      ],
      "metadata": {
        "id": "l1eWVRT3l_4o"
      }
    },
    {
      "cell_type": "code",
      "source": [
        "# Training set\n",
        "\n",
        "X = np.load('/content/drive/MyDrive/Clickbait/Image_Dataset/img.npy')\n",
        "Y = np.load('/content/drive/MyDrive/Clickbait/Image_Dataset/truth.npy')"
      ],
      "metadata": {
        "id": "W7J0_flhmbJ_"
      },
      "execution_count": null,
      "outputs": []
    },
    {
      "cell_type": "code",
      "source": [
        "X_train, X_val, y_train, y_val = train_test_split(X, Y, test_size=0.3, random_state=12345)"
      ],
      "metadata": {
        "id": "zBMEmERkLoBy"
      },
      "execution_count": null,
      "outputs": []
    },
    {
      "cell_type": "code",
      "source": [
        "X_val, X_test, y_val, y_test = train_test_split(X_val, y_val, test_size=0.1, random_state=12345)\n",
        "del X\n",
        "del Y"
      ],
      "metadata": {
        "id": "oIO4utVQLxQ2"
      },
      "execution_count": null,
      "outputs": []
    },
    {
      "cell_type": "markdown",
      "source": [
        "# Simple CNN "
      ],
      "metadata": {
        "id": "k3RxzCWOiOiQ"
      }
    },
    {
      "cell_type": "code",
      "source": [
        "batch_size = 128"
      ],
      "metadata": {
        "id": "DQIMj5CqdHUI"
      },
      "execution_count": null,
      "outputs": []
    },
    {
      "cell_type": "code",
      "source": [
        "# Building the 2-layer CNN\n",
        "cnn = Sequential([\n",
        "    Conv2D(32, kernel_size=(3, 3), activation='relu', input_shape=(126, 126, 1)),\n",
        "    MaxPooling2D(pool_size=(2, 2)),\n",
        "    Dropout(0.2),\n",
        "\n",
        "    Conv2D(64, kernel_size=(3, 3), activation='relu'),\n",
        "    MaxPooling2D(pool_size=(2, 2)),\n",
        "    Dropout(0.2),\n",
        "\n",
        "    Conv2D(128, kernel_size=(3, 3), activation='LeakyReLU'),\n",
        "    Dropout(0.2),\n",
        "\n",
        "    Flatten(),\n",
        "\n",
        "    Dense(64, activation='LeakyReLU'),\n",
        "    Dropout(0.2),\n",
        "    Dense(1, activation='sigmoid')])"
      ],
      "metadata": {
        "id": "wCumIEZciNWk"
      },
      "execution_count": null,
      "outputs": []
    },
    {
      "cell_type": "code",
      "source": [
        "# Setting up the optimizer and loss function\n",
        "cnn.compile(loss='binary_crossentropy',\n",
        "              optimizer=Adam(lr=0.001),\n",
        "              metrics=['accuracy'])"
      ],
      "metadata": {
        "colab": {
          "base_uri": "https://localhost:8080/"
        },
        "id": "3lCwEpH0dCoG",
        "outputId": "f63fe491-6410-4300-e383-ce6ae07c4c8c"
      },
      "execution_count": null,
      "outputs": [
        {
          "output_type": "stream",
          "name": "stderr",
          "text": [
            "/usr/local/lib/python3.7/dist-packages/keras/optimizers/optimizer_v2/adam.py:110: UserWarning: The `lr` argument is deprecated, use `learning_rate` instead.\n",
            "  super(Adam, self).__init__(name, **kwargs)\n"
          ]
        }
      ]
    },
    {
      "cell_type": "code",
      "source": [
        "cnn.fit(X_train, y_train,\n",
        "          batch_size=batch_size,\n",
        "          epochs= 50,\n",
        "          verbose=1,\n",
        "          validation_data=(X_val, y_val))"
      ],
      "metadata": {
        "colab": {
          "base_uri": "https://localhost:8080/"
        },
        "id": "-cnNRWM1mEip",
        "outputId": "747deba4-5528-4345-fa1d-fc1213bf237d"
      },
      "execution_count": null,
      "outputs": [
        {
          "output_type": "stream",
          "name": "stdout",
          "text": [
            "Epoch 1/50\n",
            "170/170 [==============================] - 25s 90ms/step - loss: 0.5719 - accuracy: 0.7768 - val_loss: 0.5703 - val_accuracy: 0.7694\n",
            "Epoch 2/50\n",
            "170/170 [==============================] - 14s 80ms/step - loss: 0.5100 - accuracy: 0.7853 - val_loss: 0.5400 - val_accuracy: 0.7694\n",
            "Epoch 3/50\n",
            "170/170 [==============================] - 14s 80ms/step - loss: 0.4991 - accuracy: 0.7854 - val_loss: 0.5833 - val_accuracy: 0.7698\n",
            "Epoch 4/50\n",
            "170/170 [==============================] - 14s 80ms/step - loss: 0.4860 - accuracy: 0.7848 - val_loss: 0.5443 - val_accuracy: 0.7693\n",
            "Epoch 5/50\n",
            "170/170 [==============================] - 14s 80ms/step - loss: 0.4636 - accuracy: 0.7921 - val_loss: 0.5146 - val_accuracy: 0.7707\n",
            "Epoch 6/50\n",
            "170/170 [==============================] - 14s 82ms/step - loss: 0.4359 - accuracy: 0.8039 - val_loss: 0.5264 - val_accuracy: 0.7762\n",
            "Epoch 7/50\n",
            "170/170 [==============================] - 14s 80ms/step - loss: 0.3923 - accuracy: 0.8252 - val_loss: 0.5275 - val_accuracy: 0.7814\n",
            "Epoch 8/50\n",
            "170/170 [==============================] - 14s 81ms/step - loss: 0.3491 - accuracy: 0.8478 - val_loss: 0.5165 - val_accuracy: 0.7902\n",
            "Epoch 9/50\n",
            "170/170 [==============================] - 15s 87ms/step - loss: 0.3047 - accuracy: 0.8718 - val_loss: 0.5358 - val_accuracy: 0.8020\n",
            "Epoch 10/50\n",
            "170/170 [==============================] - 15s 85ms/step - loss: 0.2709 - accuracy: 0.8885 - val_loss: 0.5651 - val_accuracy: 0.8081\n",
            "Epoch 11/50\n",
            "170/170 [==============================] - 14s 80ms/step - loss: 0.2438 - accuracy: 0.9013 - val_loss: 0.5417 - val_accuracy: 0.8127\n",
            "Epoch 12/50\n",
            "170/170 [==============================] - 14s 80ms/step - loss: 0.2155 - accuracy: 0.9163 - val_loss: 0.5582 - val_accuracy: 0.8129\n",
            "Epoch 13/50\n",
            "170/170 [==============================] - 14s 80ms/step - loss: 0.1937 - accuracy: 0.9245 - val_loss: 0.5685 - val_accuracy: 0.8287\n",
            "Epoch 14/50\n",
            "170/170 [==============================] - 14s 80ms/step - loss: 0.1772 - accuracy: 0.9305 - val_loss: 0.6018 - val_accuracy: 0.8229\n",
            "Epoch 15/50\n",
            "170/170 [==============================] - 14s 81ms/step - loss: 0.1655 - accuracy: 0.9364 - val_loss: 0.6256 - val_accuracy: 0.8254\n",
            "Epoch 16/50\n",
            "170/170 [==============================] - 14s 82ms/step - loss: 0.1515 - accuracy: 0.9437 - val_loss: 0.6342 - val_accuracy: 0.8255\n",
            "Epoch 17/50\n",
            "170/170 [==============================] - 14s 80ms/step - loss: 0.1360 - accuracy: 0.9501 - val_loss: 0.6266 - val_accuracy: 0.8345\n",
            "Epoch 18/50\n",
            "170/170 [==============================] - 14s 80ms/step - loss: 0.1301 - accuracy: 0.9520 - val_loss: 0.7041 - val_accuracy: 0.8341\n",
            "Epoch 19/50\n",
            "170/170 [==============================] - 14s 80ms/step - loss: 0.1252 - accuracy: 0.9543 - val_loss: 0.6380 - val_accuracy: 0.8377\n",
            "Epoch 20/50\n",
            "170/170 [==============================] - 15s 86ms/step - loss: 0.1151 - accuracy: 0.9585 - val_loss: 0.6657 - val_accuracy: 0.8346\n",
            "Epoch 21/50\n",
            "170/170 [==============================] - 14s 80ms/step - loss: 0.1142 - accuracy: 0.9602 - val_loss: 0.7588 - val_accuracy: 0.8488\n",
            "Epoch 22/50\n",
            "170/170 [==============================] - 14s 80ms/step - loss: 0.1056 - accuracy: 0.9642 - val_loss: 0.7287 - val_accuracy: 0.8397\n",
            "Epoch 23/50\n",
            "170/170 [==============================] - 14s 80ms/step - loss: 0.1020 - accuracy: 0.9651 - val_loss: 0.7255 - val_accuracy: 0.8338\n",
            "Epoch 24/50\n",
            "170/170 [==============================] - 14s 80ms/step - loss: 0.1019 - accuracy: 0.9651 - val_loss: 0.7346 - val_accuracy: 0.8391\n",
            "Epoch 25/50\n",
            "170/170 [==============================] - 14s 80ms/step - loss: 0.1011 - accuracy: 0.9656 - val_loss: 0.7087 - val_accuracy: 0.8351\n",
            "Epoch 26/50\n",
            "170/170 [==============================] - 14s 80ms/step - loss: 0.0948 - accuracy: 0.9673 - val_loss: 0.7731 - val_accuracy: 0.8426\n",
            "Epoch 27/50\n",
            "170/170 [==============================] - 14s 81ms/step - loss: 0.0952 - accuracy: 0.9681 - val_loss: 0.7063 - val_accuracy: 0.8310\n",
            "Epoch 28/50\n",
            "170/170 [==============================] - 14s 80ms/step - loss: 0.0872 - accuracy: 0.9708 - val_loss: 0.7778 - val_accuracy: 0.8414\n",
            "Epoch 29/50\n",
            "170/170 [==============================] - 14s 80ms/step - loss: 0.0851 - accuracy: 0.9704 - val_loss: 0.7574 - val_accuracy: 0.8351\n",
            "Epoch 30/50\n",
            "170/170 [==============================] - 14s 80ms/step - loss: 0.0865 - accuracy: 0.9715 - val_loss: 0.7701 - val_accuracy: 0.8447\n",
            "Epoch 31/50\n",
            "170/170 [==============================] - 14s 80ms/step - loss: 0.0860 - accuracy: 0.9714 - val_loss: 0.7163 - val_accuracy: 0.8402\n",
            "Epoch 32/50\n",
            "170/170 [==============================] - 14s 80ms/step - loss: 0.0848 - accuracy: 0.9723 - val_loss: 0.7721 - val_accuracy: 0.8438\n",
            "Epoch 33/50\n",
            "170/170 [==============================] - 14s 80ms/step - loss: 0.0812 - accuracy: 0.9727 - val_loss: 0.7306 - val_accuracy: 0.8366\n",
            "Epoch 34/50\n",
            "170/170 [==============================] - 14s 80ms/step - loss: 0.0758 - accuracy: 0.9751 - val_loss: 0.7700 - val_accuracy: 0.8408\n",
            "Epoch 35/50\n",
            "170/170 [==============================] - 14s 80ms/step - loss: 0.0795 - accuracy: 0.9745 - val_loss: 0.7966 - val_accuracy: 0.8476\n",
            "Epoch 36/50\n",
            "170/170 [==============================] - 14s 80ms/step - loss: 0.0759 - accuracy: 0.9748 - val_loss: 0.7725 - val_accuracy: 0.8439\n",
            "Epoch 37/50\n",
            "170/170 [==============================] - 14s 82ms/step - loss: 0.0743 - accuracy: 0.9765 - val_loss: 0.7831 - val_accuracy: 0.8427\n",
            "Epoch 38/50\n",
            "170/170 [==============================] - 14s 80ms/step - loss: 0.0755 - accuracy: 0.9762 - val_loss: 0.7572 - val_accuracy: 0.8380\n",
            "Epoch 39/50\n",
            "170/170 [==============================] - 14s 80ms/step - loss: 0.0712 - accuracy: 0.9774 - val_loss: 0.7554 - val_accuracy: 0.8397\n",
            "Epoch 40/50\n",
            "170/170 [==============================] - 14s 80ms/step - loss: 0.0737 - accuracy: 0.9766 - val_loss: 0.7944 - val_accuracy: 0.8481\n",
            "Epoch 41/50\n",
            "170/170 [==============================] - 14s 80ms/step - loss: 0.0743 - accuracy: 0.9766 - val_loss: 0.7757 - val_accuracy: 0.8446\n",
            "Epoch 42/50\n",
            "170/170 [==============================] - 14s 81ms/step - loss: 0.0680 - accuracy: 0.9777 - val_loss: 0.7948 - val_accuracy: 0.8465\n",
            "Epoch 43/50\n",
            "170/170 [==============================] - 14s 80ms/step - loss: 0.0719 - accuracy: 0.9770 - val_loss: 0.7722 - val_accuracy: 0.8395\n",
            "Epoch 44/50\n",
            "170/170 [==============================] - 14s 80ms/step - loss: 0.0691 - accuracy: 0.9787 - val_loss: 0.7541 - val_accuracy: 0.8444\n",
            "Epoch 45/50\n",
            "170/170 [==============================] - 14s 80ms/step - loss: 0.0663 - accuracy: 0.9787 - val_loss: 0.7618 - val_accuracy: 0.8384\n",
            "Epoch 46/50\n",
            "170/170 [==============================] - 14s 80ms/step - loss: 0.0670 - accuracy: 0.9780 - val_loss: 0.7546 - val_accuracy: 0.8439\n",
            "Epoch 47/50\n",
            "170/170 [==============================] - 14s 80ms/step - loss: 0.0683 - accuracy: 0.9788 - val_loss: 0.7793 - val_accuracy: 0.8465\n",
            "Epoch 48/50\n",
            "170/170 [==============================] - 14s 81ms/step - loss: 0.0648 - accuracy: 0.9793 - val_loss: 0.7790 - val_accuracy: 0.8470\n",
            "Epoch 49/50\n",
            "170/170 [==============================] - 14s 80ms/step - loss: 0.0685 - accuracy: 0.9781 - val_loss: 0.7557 - val_accuracy: 0.8485\n",
            "Epoch 50/50\n",
            "170/170 [==============================] - 14s 81ms/step - loss: 0.0683 - accuracy: 0.9773 - val_loss: 0.7635 - val_accuracy: 0.8480\n"
          ]
        },
        {
          "output_type": "execute_result",
          "data": {
            "text/plain": [
              "<keras.callbacks.History at 0x7f89a059fdd0>"
            ]
          },
          "metadata": {},
          "execution_count": 10
        }
      ]
    },
    {
      "cell_type": "code",
      "source": [
        "cnn2.summary()"
      ],
      "metadata": {
        "colab": {
          "base_uri": "https://localhost:8080/"
        },
        "id": "RxXITGJiPL6a",
        "outputId": "582a6995-8f03-4d88-833e-a27b7f5e97ae"
      },
      "execution_count": null,
      "outputs": [
        {
          "output_type": "stream",
          "name": "stdout",
          "text": [
            "Model: \"sequential\"\n",
            "_________________________________________________________________\n",
            " Layer (type)                Output Shape              Param #   \n",
            "=================================================================\n",
            " conv2d (Conv2D)             (None, 124, 124, 32)      320       \n",
            "                                                                 \n",
            " max_pooling2d (MaxPooling2D  (None, 62, 62, 32)       0         \n",
            " )                                                               \n",
            "                                                                 \n",
            " dropout (Dropout)           (None, 62, 62, 32)        0         \n",
            "                                                                 \n",
            " conv2d_1 (Conv2D)           (None, 60, 60, 64)        18496     \n",
            "                                                                 \n",
            " max_pooling2d_1 (MaxPooling  (None, 30, 30, 64)       0         \n",
            " 2D)                                                             \n",
            "                                                                 \n",
            " dropout_1 (Dropout)         (None, 30, 30, 64)        0         \n",
            "                                                                 \n",
            " conv2d_2 (Conv2D)           (None, 28, 28, 128)       73856     \n",
            "                                                                 \n",
            " dropout_2 (Dropout)         (None, 28, 28, 128)       0         \n",
            "                                                                 \n",
            " flatten (Flatten)           (None, 100352)            0         \n",
            "                                                                 \n",
            " dense (Dense)               (None, 64)                6422592   \n",
            "                                                                 \n",
            " dropout_3 (Dropout)         (None, 64)                0         \n",
            "                                                                 \n",
            " dense_1 (Dense)             (None, 1)                 65        \n",
            "                                                                 \n",
            "=================================================================\n",
            "Total params: 6,515,329\n",
            "Trainable params: 6,515,329\n",
            "Non-trainable params: 0\n",
            "_________________________________________________________________\n"
          ]
        }
      ]
    },
    {
      "cell_type": "code",
      "source": [
        "Y_pred = cnn2.predict(X_test)"
      ],
      "metadata": {
        "colab": {
          "base_uri": "https://localhost:8080/"
        },
        "id": "NeP9a01-SvAf",
        "outputId": "00fb009d-c92e-4c22-a941-14f6dd48a226"
      },
      "execution_count": null,
      "outputs": [
        {
          "output_type": "execute_result",
          "data": {
            "text/plain": [
              "(931, 126, 126, 1)"
            ]
          },
          "metadata": {},
          "execution_count": 15
        }
      ]
    },
    {
      "cell_type": "code",
      "source": [
        "y = []\n",
        "for i in Y_pred:\n",
        "  if i > 0.5:\n",
        "    y.append(1)\n",
        "  else:\n",
        "    y.append(0)"
      ],
      "metadata": {
        "id": "wS1HvSPlS6cX"
      },
      "execution_count": null,
      "outputs": []
    },
    {
      "cell_type": "code",
      "source": [
        "# Metrics of the model\n",
        "print(classification_report(y_test, y))"
      ],
      "metadata": {
        "colab": {
          "base_uri": "https://localhost:8080/"
        },
        "id": "kfeT64-tTf8U",
        "outputId": "38694e52-fc77-4497-ddf9-062d43847ca1"
      },
      "execution_count": null,
      "outputs": [
        {
          "output_type": "stream",
          "name": "stdout",
          "text": [
            "              precision    recall  f1-score   support\n",
            "\n",
            "           0       0.88      0.95      0.91       729\n",
            "           1       0.73      0.53      0.62       202\n",
            "\n",
            "    accuracy                           0.86       931\n",
            "   macro avg       0.80      0.74      0.76       931\n",
            "weighted avg       0.85      0.86      0.85       931\n",
            "\n"
          ]
        }
      ]
    },
    {
      "cell_type": "code",
      "source": [
        "cnn2.save('/content/drive/MyDrive/Clickbait/Image_Models/CNN')"
      ],
      "metadata": {
        "colab": {
          "base_uri": "https://localhost:8080/"
        },
        "id": "IIJKAskfPzra",
        "outputId": "6aaf5b31-6ff1-4052-cd63-5bb0e197cb2b"
      },
      "execution_count": null,
      "outputs": [
        {
          "output_type": "stream",
          "name": "stderr",
          "text": [
            "WARNING:absl:Found untraced functions such as _jit_compiled_convolution_op, _jit_compiled_convolution_op, _jit_compiled_convolution_op, leaky_re_lu_layer_call_fn, leaky_re_lu_layer_call_and_return_conditional_losses while saving (showing 5 of 7). These functions will not be directly callable after loading.\n"
          ]
        }
      ]
    },
    {
      "cell_type": "markdown",
      "source": [
        "# VGG Dataloader"
      ],
      "metadata": {
        "id": "Iu1xtwKh6wLr"
      }
    },
    {
      "cell_type": "code",
      "source": [
        "# Training set\n",
        "\n",
        "X_train = np.load('/content/drive/MyDrive/Clickbait/Image_Dataset/img_3channels_train.npy')\n",
        "y_train = np.load('/content/drive/MyDrive/Clickbait/Image_Dataset/truth_3channels_train.npy')"
      ],
      "metadata": {
        "id": "6kj8woob69YE"
      },
      "execution_count": null,
      "outputs": []
    },
    {
      "cell_type": "code",
      "source": [
        "X = np.load('/content/drive/MyDrive/Clickbait/Image_Dataset/img_3channels_test.npy')\n",
        "Y = np.load('/content/drive/MyDrive/Clickbait/Image_Dataset/truth_3channels_test.npy')"
      ],
      "metadata": {
        "id": "Wxei3HtaHNZV"
      },
      "execution_count": null,
      "outputs": []
    },
    {
      "cell_type": "code",
      "source": [
        "X_train.shape"
      ],
      "metadata": {
        "colab": {
          "base_uri": "https://localhost:8080/"
        },
        "id": "xRbHhmsM71CR",
        "outputId": "861d9bd1-b726-4376-df7a-f05fc0c1c674"
      },
      "execution_count": null,
      "outputs": [
        {
          "output_type": "execute_result",
          "data": {
            "text/plain": [
              "(25000, 64, 64, 3)"
            ]
          },
          "metadata": {},
          "execution_count": 5
        }
      ]
    },
    {
      "cell_type": "code",
      "source": [
        "X_val, X_test, y_val, y_test = train_test_split(X, Y, test_size=0.7, random_state=12345)\n",
        "del X\n",
        "del Y"
      ],
      "metadata": {
        "id": "Y3T3xsNo7B6C"
      },
      "execution_count": null,
      "outputs": []
    },
    {
      "cell_type": "markdown",
      "source": [
        "# VGG Net"
      ],
      "metadata": {
        "id": "SLOa9_MMiUpM"
      }
    },
    {
      "cell_type": "code",
      "source": [
        "def create_model(input_shape, n_classes, optimizer='rmsprop', fine_tune=0):\n",
        "    \"\"\"\n",
        "    Compiles a model integrated with VGG16 pretrained layers\n",
        "    \n",
        "    input_shape: tuple - the shape of input images (width, height, channels)\n",
        "    n_classes: int - number of classes for the output layer\n",
        "    optimizer: string - instantiated optimizer to use for training. Defaults to 'RMSProp'\n",
        "    fine_tune: int - The number of pre-trained layers to unfreeze.\n",
        "                If set to 0, all pretrained layers will freeze during training\n",
        "    \"\"\"\n",
        "    \n",
        "    # Pretrained convolutional layers are loaded using the Imagenet weights.\n",
        "    # Include_top is set to False, in order to exclude the model's fully-connected layers.\n",
        "    conv_base = VGG16(include_top=False,\n",
        "                     weights='imagenet', \n",
        "                     input_shape=input_shape)\n",
        "    \n",
        "    # Defines how many layers to freeze during training.\n",
        "    # Layers in the convolutional base are switched from trainable to non-trainable\n",
        "    # depending on the size of the fine-tuning parameter.\n",
        "    if fine_tune > 0:\n",
        "        for layer in conv_base.layers[:-fine_tune]:\n",
        "            layer.trainable = False\n",
        "    else:\n",
        "        for layer in conv_base.layers:\n",
        "            layer.trainable = False\n",
        "\n",
        "    # Create a new 'top' of the model (i.e. fully-connected layers).\n",
        "    # This is 'bootstrapping' a new top_model onto the pretrained layers.\n",
        "    top_model = conv_base.output\n",
        "    top_model = Flatten(name=\"flatten\")(top_model)\n",
        "    top_model = Dense(4096, activation='relu')(top_model)\n",
        "    top_model = Dense(1072, activation='relu')(top_model)\n",
        "    top_model = Dropout(0.2)(top_model)\n",
        "    output_layer = Dense(n_classes, activation='sigmoid')(top_model)\n",
        "    \n",
        "    # Group the convolutional base and new fully-connected layers into a Model object.\n",
        "    model = Model(inputs=conv_base.input, outputs=output_layer)\n",
        "\n",
        "    # Compiles the model for training.\n",
        "    model.compile(optimizer=optimizer, \n",
        "                  loss='binary_crossentropy',\n",
        "                  metrics=['accuracy'])\n",
        "    \n",
        "    return model"
      ],
      "metadata": {
        "id": "7zzmLVclWDpy"
      },
      "execution_count": null,
      "outputs": []
    },
    {
      "cell_type": "code",
      "source": [
        "input_shape = (64, 64, 3)\n",
        "optim_1 = Adam(learning_rate=0.001)\n",
        "n_classes=1\n",
        "n_epochs = 100\n",
        "vgg_model = create_model(input_shape, n_classes, optim_1, fine_tune=0)"
      ],
      "metadata": {
        "id": "7xCTcVcpiWQz"
      },
      "execution_count": null,
      "outputs": []
    },
    {
      "cell_type": "code",
      "source": [
        "y_train = np.reshape(y_train, (25000, 1))\n",
        "y_val = np.reshape(y_val, (y_val.shape[0], 1))\n",
        "y_test = np.reshape(y_test, (y_test.shape[0], 1))"
      ],
      "metadata": {
        "id": "vfY0-GfopL9E"
      },
      "execution_count": null,
      "outputs": []
    },
    {
      "cell_type": "code",
      "source": [
        "plot_loss_1 = PlotLossesCallback()\n",
        "\n",
        "\n",
        "# EarlyStopping\n",
        "early_stop = EarlyStopping(monitor='val_loss',\n",
        "                           patience=10,\n",
        "                           restore_best_weights=True,\n",
        "                           mode='min')"
      ],
      "metadata": {
        "id": "MOas8vt7wt19"
      },
      "execution_count": null,
      "outputs": []
    },
    {
      "cell_type": "code",
      "source": [
        "vgg_history = vgg_model.fit(X_train, y_train, batch_size=128, epochs=n_epochs, validation_data = (X_val, y_val), callbacks=[early_stop, plot_loss_1])"
      ],
      "metadata": {
        "id": "2Olw-O3JWRZj",
        "colab": {
          "base_uri": "https://localhost:8080/",
          "height": 706
        },
        "outputId": "62b81931-6df2-4494-fcb1-e3e4a5a52889"
      },
      "execution_count": null,
      "outputs": [
        {
          "output_type": "display_data",
          "data": {
            "text/plain": [
              "<Figure size 864x576 with 2 Axes>"
            ],
            "image/png": "[encoded data removed]"
          },
          "metadata": {
            "needs_background": "light"
          }
        },
        {
          "output_type": "stream",
          "name": "stdout",
          "text": [
            "accuracy\n",
            "\ttraining         \t (min:    0.779, max:    0.965, cur:    0.965)\n",
            "\tvalidation       \t (min:    0.690, max:    0.772, cur:    0.731)\n",
            "Loss\n",
            "\ttraining         \t (min:    0.093, max:    0.553, cur:    0.093)\n",
            "\tvalidation       \t (min:    0.543, max:    1.458, cur:    1.455)\n",
            "\b\b\b\b\b\b\b\b\b\b\b\b\b\b\b\b\b\b\b\b\b\b\b\b\b\b\b\b\b\b\b\b\b\b\b\b\b\b\b\b\b\b\b\b\b\b\b\b\b\b\b\b\b\b\b\b\b\b\b\b\b\b\b\b\b\b\b\b\b\b\b\b\b\b\b\b\b\b\b\b\b\b\b\b\r196/196 [==============================] - 12s 62ms/step - loss: 0.0931 - accuracy: 0.9652 - val_loss: 1.4555 - val_accuracy: 0.7308\n"
          ]
        }
      ]
    },
    {
      "cell_type": "code",
      "source": [
        "vgg_model.summary()"
      ],
      "metadata": {
        "colab": {
          "base_uri": "https://localhost:8080/"
        },
        "id": "FwjN3rIqpDq2",
        "outputId": "aa4bfae6-55de-412c-deaf-acd61ffc1c8e"
      },
      "execution_count": null,
      "outputs": [
        {
          "output_type": "stream",
          "name": "stdout",
          "text": [
            "Model: \"model_1\"\n",
            "_________________________________________________________________\n",
            " Layer (type)                Output Shape              Param #   \n",
            "=================================================================\n",
            " input_2 (InputLayer)        [(None, 64, 64, 3)]       0         \n",
            "                                                                 \n",
            " block1_conv1 (Conv2D)       (None, 64, 64, 64)        1792      \n",
            "                                                                 \n",
            " block1_conv2 (Conv2D)       (None, 64, 64, 64)        36928     \n",
            "                                                                 \n",
            " block1_pool (MaxPooling2D)  (None, 32, 32, 64)        0         \n",
            "                                                                 \n",
            " block2_conv1 (Conv2D)       (None, 32, 32, 128)       73856     \n",
            "                                                                 \n",
            " block2_conv2 (Conv2D)       (None, 32, 32, 128)       147584    \n",
            "                                                                 \n",
            " block2_pool (MaxPooling2D)  (None, 16, 16, 128)       0         \n",
            "                                                                 \n",
            " block3_conv1 (Conv2D)       (None, 16, 16, 256)       295168    \n",
            "                                                                 \n",
            " block3_conv2 (Conv2D)       (None, 16, 16, 256)       590080    \n",
            "                                                                 \n",
            " block3_conv3 (Conv2D)       (None, 16, 16, 256)       590080    \n",
            "                                                                 \n",
            " block3_pool (MaxPooling2D)  (None, 8, 8, 256)         0         \n",
            "                                                                 \n",
            " block4_conv1 (Conv2D)       (None, 8, 8, 512)         1180160   \n",
            "                                                                 \n",
            " block4_conv2 (Conv2D)       (None, 8, 8, 512)         2359808   \n",
            "                                                                 \n",
            " block4_conv3 (Conv2D)       (None, 8, 8, 512)         2359808   \n",
            "                                                                 \n",
            " block4_pool (MaxPooling2D)  (None, 4, 4, 512)         0         \n",
            "                                                                 \n",
            " block5_conv1 (Conv2D)       (None, 4, 4, 512)         2359808   \n",
            "                                                                 \n",
            " block5_conv2 (Conv2D)       (None, 4, 4, 512)         2359808   \n",
            "                                                                 \n",
            " block5_conv3 (Conv2D)       (None, 4, 4, 512)         2359808   \n",
            "                                                                 \n",
            " block5_pool (MaxPooling2D)  (None, 2, 2, 512)         0         \n",
            "                                                                 \n",
            " flatten (Flatten)           (None, 2048)              0         \n",
            "                                                                 \n",
            " dense_3 (Dense)             (None, 4096)              8392704   \n",
            "                                                                 \n",
            " dense_4 (Dense)             (None, 1072)              4391984   \n",
            "                                                                 \n",
            " dropout_1 (Dropout)         (None, 1072)              0         \n",
            "                                                                 \n",
            " dense_5 (Dense)             (None, 1)                 1073      \n",
            "                                                                 \n",
            "=================================================================\n",
            "Total params: 27,500,449\n",
            "Trainable params: 12,785,761\n",
            "Non-trainable params: 14,714,688\n",
            "_________________________________________________________________\n"
          ]
        }
      ]
    },
    {
      "cell_type": "code",
      "source": [
        "Y_pred = vgg_model.predict(X_test)\n",
        "y = []\n",
        "for i in Y_pred:\n",
        "  if i > 0.5:\n",
        "    y.append(1)\n",
        "  else:\n",
        "    y.append(0)"
      ],
      "metadata": {
        "colab": {
          "base_uri": "https://localhost:8080/"
        },
        "id": "da8fCQk5zHVb",
        "outputId": "d05f8f39-c7a3-41d3-9045-7b89b8809a80"
      },
      "execution_count": null,
      "outputs": [
        {
          "output_type": "stream",
          "name": "stdout",
          "text": [
            "132/132 [==============================] - 3s 21ms/step\n"
          ]
        }
      ]
    },
    {
      "cell_type": "code",
      "source": [
        "# Metrics of the VGG Network\n",
        "print(classification_report(y_test, y))"
      ],
      "metadata": {
        "colab": {
          "base_uri": "https://localhost:8080/"
        },
        "id": "4jyfSHjrzSQN",
        "outputId": "70398197-516a-4ced-8f15-8808517bcf3e"
      },
      "execution_count": null,
      "outputs": [
        {
          "output_type": "stream",
          "name": "stdout",
          "text": [
            "              precision    recall  f1-score   support\n",
            "\n",
            "           0       0.76      1.00      0.86      3210\n",
            "           1       0.69      0.02      0.03      1013\n",
            "\n",
            "    accuracy                           0.76      4223\n",
            "   macro avg       0.73      0.51      0.45      4223\n",
            "weighted avg       0.75      0.76      0.67      4223\n",
            "\n"
          ]
        }
      ]
    },
    {
      "cell_type": "code",
      "source": [
        "vgg_model.save('/content/drive/MyDrive/Clickbait/Image_Models/VGG')"
      ],
      "metadata": {
        "colab": {
          "base_uri": "https://localhost:8080/"
        },
        "id": "qF44KX2BzsgQ",
        "outputId": "5ca3fa66-984e-4470-ba60-5b2c8f8e578e"
      },
      "execution_count": null,
      "outputs": [
        {
          "output_type": "stream",
          "name": "stderr",
          "text": [
            "WARNING:absl:Found untraced functions such as _jit_compiled_convolution_op, _jit_compiled_convolution_op, _jit_compiled_convolution_op, _jit_compiled_convolution_op, _jit_compiled_convolution_op while saving (showing 5 of 13). These functions will not be directly callable after loading.\n"
          ]
        }
      ]
    },
    {
      "cell_type": "code",
      "source": [],
      "metadata": {
        "id": "RFMGlkeS0bju"
      },
      "execution_count": null,
      "outputs": []
    }
  ]
}