{
  "nbformat": 4,
  "nbformat_minor": 0,
  "metadata": {
    "colab": {
      "provenance": []
    },
    "kernelspec": {
      "name": "python3",
      "display_name": "Python 3"
    },
    "language_info": {
      "name": "python"
    },
    "gpuClass": "standard"
  },
  "cells": [
    {
      "cell_type": "markdown",
      "source": [
        "# Installing the required packages"
      ],
      "metadata": {
        "id": "JtFCSM7YKN2w"
      }
    },
    {
      "cell_type": "code",
      "execution_count": null,
      "metadata": {
        "id": "hiUwYlb-5G0_"
      },
      "outputs": [],
      "source": [
        "import pandas as pd\n",
        "from sklearn import preprocessing\n",
        "import numpy as np\n",
        "\n",
        "import tensorflow as tf"
      ]
    },
    {
      "cell_type": "code",
      "source": [
        "from mlxtend.plotting import plot_confusion_matrix\n",
        "from sklearn import metrics\n",
        "\n",
        "import matplotlib.pyplot as plt"
      ],
      "metadata": {
        "id": "XwGpmeA37GLw"
      },
      "execution_count": null,
      "outputs": []
    },
    {
      "cell_type": "code",
      "source": [
        "!pip install zeugma"
      ],
      "metadata": {
        "colab": {
          "base_uri": "https://localhost:8080/"
        },
        "id": "sRvCxoD_gsn_",
        "outputId": "2105cebf-42cf-4c58-9342-889d7d2baf60"
      },
      "execution_count": null,
      "outputs": [
        {
          "output_type": "stream",
          "name": "stdout",
          "text": [
            "Looking in indexes: https://pypi.org/simple, https://us-python.pkg.dev/colab-wheels/public/simple/\n",
            "Collecting zeugma\n",
            "  Downloading zeugma-0.49.tar.gz (9.9 kB)\n",
            "Requirement already satisfied: numpy>=1.13.3 in /usr/local/lib/python3.7/dist-packages (from zeugma) (1.21.6)\n",
            "Requirement already satisfied: Cython>=0.27.3 in /usr/local/lib/python3.7/dist-packages (from zeugma) (0.29.32)\n",
            "Requirement already satisfied: pandas>=0.20.3 in /usr/local/lib/python3.7/dist-packages (from zeugma) (1.3.5)\n",
            "Requirement already satisfied: gensim>=3.5.0 in /usr/local/lib/python3.7/dist-packages (from zeugma) (4.2.0)\n",
            "Requirement already satisfied: scikit_learn>=0.19.1 in /usr/local/lib/python3.7/dist-packages (from zeugma) (1.0.2)\n",
            "Requirement already satisfied: tensorflow>=1.5.0 in /usr/local/lib/python3.7/dist-packages (from zeugma) (2.9.2)\n",
            "Requirement already satisfied: keras>=2.1.3 in /usr/local/lib/python3.7/dist-packages (from zeugma) (2.9.0)\n",
            "Requirement already satisfied: scipy>=0.18.1 in /usr/local/lib/python3.7/dist-packages (from gensim>=3.5.0->zeugma) (1.7.3)\n",
            "Requirement already satisfied: smart-open>=1.8.1 in /usr/local/lib/python3.7/dist-packages (from gensim>=3.5.0->zeugma) (5.2.1)\n",
            "Requirement already satisfied: python-dateutil>=2.7.3 in /usr/local/lib/python3.7/dist-packages (from pandas>=0.20.3->zeugma) (2.8.2)\n",
            "Requirement already satisfied: pytz>=2017.3 in /usr/local/lib/python3.7/dist-packages (from pandas>=0.20.3->zeugma) (2022.6)\n",
            "Requirement already satisfied: six>=1.5 in /usr/local/lib/python3.7/dist-packages (from python-dateutil>=2.7.3->pandas>=0.20.3->zeugma) (1.15.0)\n",
            "Requirement already satisfied: joblib>=0.11 in /usr/local/lib/python3.7/dist-packages (from scikit_learn>=0.19.1->zeugma) (1.2.0)\n",
            "Requirement already satisfied: threadpoolctl>=2.0.0 in /usr/local/lib/python3.7/dist-packages (from scikit_learn>=0.19.1->zeugma) (3.1.0)\n",
            "Requirement already satisfied: opt-einsum>=2.3.2 in /usr/local/lib/python3.7/dist-packages (from tensorflow>=1.5.0->zeugma) (3.3.0)\n",
            "Requirement already satisfied: absl-py>=1.0.0 in /usr/local/lib/python3.7/dist-packages (from tensorflow>=1.5.0->zeugma) (1.3.0)\n",
            "Requirement already satisfied: protobuf<3.20,>=3.9.2 in /usr/local/lib/python3.7/dist-packages (from tensorflow>=1.5.0->zeugma) (3.19.6)\n",
            "Requirement already satisfied: typing-extensions>=3.6.6 in /usr/local/lib/python3.7/dist-packages (from tensorflow>=1.5.0->zeugma) (4.1.1)\n",
            "Requirement already satisfied: grpcio<2.0,>=1.24.3 in /usr/local/lib/python3.7/dist-packages (from tensorflow>=1.5.0->zeugma) (1.50.0)\n",
            "Requirement already satisfied: gast<=0.4.0,>=0.2.1 in /usr/local/lib/python3.7/dist-packages (from tensorflow>=1.5.0->zeugma) (0.4.0)\n",
            "Requirement already satisfied: tensorflow-io-gcs-filesystem>=0.23.1 in /usr/local/lib/python3.7/dist-packages (from tensorflow>=1.5.0->zeugma) (0.27.0)\n",
            "Requirement already satisfied: libclang>=13.0.0 in /usr/local/lib/python3.7/dist-packages (from tensorflow>=1.5.0->zeugma) (14.0.6)\n",
            "Requirement already satisfied: setuptools in /usr/local/lib/python3.7/dist-packages (from tensorflow>=1.5.0->zeugma) (57.4.0)\n",
            "Requirement already satisfied: google-pasta>=0.1.1 in /usr/local/lib/python3.7/dist-packages (from tensorflow>=1.5.0->zeugma) (0.2.0)\n",
            "Requirement already satisfied: packaging in /usr/local/lib/python3.7/dist-packages (from tensorflow>=1.5.0->zeugma) (21.3)\n",
            "Requirement already satisfied: keras-preprocessing>=1.1.1 in /usr/local/lib/python3.7/dist-packages (from tensorflow>=1.5.0->zeugma) (1.1.2)\n",
            "Requirement already satisfied: flatbuffers<2,>=1.12 in /usr/local/lib/python3.7/dist-packages (from tensorflow>=1.5.0->zeugma) (1.12)\n",
            "Requirement already satisfied: termcolor>=1.1.0 in /usr/local/lib/python3.7/dist-packages (from tensorflow>=1.5.0->zeugma) (2.1.0)\n",
            "Requirement already satisfied: tensorboard<2.10,>=2.9 in /usr/local/lib/python3.7/dist-packages (from tensorflow>=1.5.0->zeugma) (2.9.1)\n",
            "Requirement already satisfied: tensorflow-estimator<2.10.0,>=2.9.0rc0 in /usr/local/lib/python3.7/dist-packages (from tensorflow>=1.5.0->zeugma) (2.9.0)\n",
            "Requirement already satisfied: wrapt>=1.11.0 in /usr/local/lib/python3.7/dist-packages (from tensorflow>=1.5.0->zeugma) (1.14.1)\n",
            "Requirement already satisfied: astunparse>=1.6.0 in /usr/local/lib/python3.7/dist-packages (from tensorflow>=1.5.0->zeugma) (1.6.3)\n",
            "Requirement already satisfied: h5py>=2.9.0 in /usr/local/lib/python3.7/dist-packages (from tensorflow>=1.5.0->zeugma) (3.1.0)\n",
            "Requirement already satisfied: wheel<1.0,>=0.23.0 in /usr/local/lib/python3.7/dist-packages (from astunparse>=1.6.0->tensorflow>=1.5.0->zeugma) (0.38.4)\n",
            "Requirement already satisfied: cached-property in /usr/local/lib/python3.7/dist-packages (from h5py>=2.9.0->tensorflow>=1.5.0->zeugma) (1.5.2)\n",
            "Requirement already satisfied: werkzeug>=1.0.1 in /usr/local/lib/python3.7/dist-packages (from tensorboard<2.10,>=2.9->tensorflow>=1.5.0->zeugma) (1.0.1)\n",
            "Requirement already satisfied: google-auth<3,>=1.6.3 in /usr/local/lib/python3.7/dist-packages (from tensorboard<2.10,>=2.9->tensorflow>=1.5.0->zeugma) (2.14.1)\n",
            "Requirement already satisfied: markdown>=2.6.8 in /usr/local/lib/python3.7/dist-packages (from tensorboard<2.10,>=2.9->tensorflow>=1.5.0->zeugma) (3.4.1)\n",
            "Requirement already satisfied: tensorboard-data-server<0.7.0,>=0.6.0 in /usr/local/lib/python3.7/dist-packages (from tensorboard<2.10,>=2.9->tensorflow>=1.5.0->zeugma) (0.6.1)\n",
            "Requirement already satisfied: tensorboard-plugin-wit>=1.6.0 in /usr/local/lib/python3.7/dist-packages (from tensorboard<2.10,>=2.9->tensorflow>=1.5.0->zeugma) (1.8.1)\n",
            "Requirement already satisfied: google-auth-oauthlib<0.5,>=0.4.1 in /usr/local/lib/python3.7/dist-packages (from tensorboard<2.10,>=2.9->tensorflow>=1.5.0->zeugma) (0.4.6)\n",
            "Requirement already satisfied: requests<3,>=2.21.0 in /usr/local/lib/python3.7/dist-packages (from tensorboard<2.10,>=2.9->tensorflow>=1.5.0->zeugma) (2.23.0)\n",
            "Requirement already satisfied: rsa<5,>=3.1.4 in /usr/local/lib/python3.7/dist-packages (from google-auth<3,>=1.6.3->tensorboard<2.10,>=2.9->tensorflow>=1.5.0->zeugma) (4.9)\n",
            "Requirement already satisfied: cachetools<6.0,>=2.0.0 in /usr/local/lib/python3.7/dist-packages (from google-auth<3,>=1.6.3->tensorboard<2.10,>=2.9->tensorflow>=1.5.0->zeugma) (5.2.0)\n",
            "Requirement already satisfied: pyasn1-modules>=0.2.1 in /usr/local/lib/python3.7/dist-packages (from google-auth<3,>=1.6.3->tensorboard<2.10,>=2.9->tensorflow>=1.5.0->zeugma) (0.2.8)\n",
            "Requirement already satisfied: requests-oauthlib>=0.7.0 in /usr/local/lib/python3.7/dist-packages (from google-auth-oauthlib<0.5,>=0.4.1->tensorboard<2.10,>=2.9->tensorflow>=1.5.0->zeugma) (1.3.1)\n",
            "Requirement already satisfied: importlib-metadata>=4.4 in /usr/local/lib/python3.7/dist-packages (from markdown>=2.6.8->tensorboard<2.10,>=2.9->tensorflow>=1.5.0->zeugma) (4.13.0)\n",
            "Requirement already satisfied: zipp>=0.5 in /usr/local/lib/python3.7/dist-packages (from importlib-metadata>=4.4->markdown>=2.6.8->tensorboard<2.10,>=2.9->tensorflow>=1.5.0->zeugma) (3.10.0)\n",
            "Requirement already satisfied: pyasn1<0.5.0,>=0.4.6 in /usr/local/lib/python3.7/dist-packages (from pyasn1-modules>=0.2.1->google-auth<3,>=1.6.3->tensorboard<2.10,>=2.9->tensorflow>=1.5.0->zeugma) (0.4.8)\n",
            "Requirement already satisfied: certifi>=2017.4.17 in /usr/local/lib/python3.7/dist-packages (from requests<3,>=2.21.0->tensorboard<2.10,>=2.9->tensorflow>=1.5.0->zeugma) (2022.9.24)\n",
            "Requirement already satisfied: idna<3,>=2.5 in /usr/local/lib/python3.7/dist-packages (from requests<3,>=2.21.0->tensorboard<2.10,>=2.9->tensorflow>=1.5.0->zeugma) (2.10)\n",
            "Requirement already satisfied: urllib3!=1.25.0,!=1.25.1,<1.26,>=1.21.1 in /usr/local/lib/python3.7/dist-packages (from requests<3,>=2.21.0->tensorboard<2.10,>=2.9->tensorflow>=1.5.0->zeugma) (1.24.3)\n",
            "Requirement already satisfied: chardet<4,>=3.0.2 in /usr/local/lib/python3.7/dist-packages (from requests<3,>=2.21.0->tensorboard<2.10,>=2.9->tensorflow>=1.5.0->zeugma) (3.0.4)\n",
            "Requirement already satisfied: oauthlib>=3.0.0 in /usr/local/lib/python3.7/dist-packages (from requests-oauthlib>=0.7.0->google-auth-oauthlib<0.5,>=0.4.1->tensorboard<2.10,>=2.9->tensorflow>=1.5.0->zeugma) (3.2.2)\n",
            "Requirement already satisfied: pyparsing!=3.0.5,>=2.0.2 in /usr/local/lib/python3.7/dist-packages (from packaging->tensorflow>=1.5.0->zeugma) (3.0.9)\n",
            "Building wheels for collected packages: zeugma\n",
            "  Building wheel for zeugma (setup.py) ... \u001b[?25l\u001b[?25hdone\n",
            "  Created wheel for zeugma: filename=zeugma-0.49-py3-none-any.whl size=8821 sha256=5b871d7921fb4db273b119de74564b4009ca7e73a9ad4f32feb4ea96716c1a9f\n",
            "  Stored in directory: /root/.cache/pip/wheels/1d/47/5b/2a59a79706cc9340c72fd6a7bfc20e7ebcab849c88c38fdfa0\n",
            "Successfully built zeugma\n",
            "Installing collected packages: zeugma\n",
            "Successfully installed zeugma-0.49\n"
          ]
        }
      ]
    },
    {
      "cell_type": "code",
      "source": [
        "import pandas as pd\n",
        "import numpy as np\n",
        "from sklearn.model_selection import train_test_split\n",
        "\n",
        "import tensorflow as tf\n",
        "from tensorflow.keras.preprocessing.text import Tokenizer\n",
        "from tensorflow.keras.preprocessing.sequence import pad_sequences\n",
        "from tensorflow.keras.models import Sequential\n",
        "from tensorflow.keras.layers import Embedding, Dense, GRU, Dropout, Bidirectional, SpatialDropout1D\n",
        "from tensorflow.keras.utils import to_categorical\n",
        "\n",
        "from sklearn import preprocessing"
      ],
      "metadata": {
        "id": "q6635Q-p_gar"
      },
      "execution_count": null,
      "outputs": []
    },
    {
      "cell_type": "markdown",
      "source": [
        "# Read Dataset"
      ],
      "metadata": {
        "id": "uU9I9YPw7N63"
      }
    },
    {
      "cell_type": "code",
      "source": [
        "main = pd.read_csv('/content/drive/MyDrive/Clickbait/Text_Dataset/Main_Dataset.csv')\n",
        "val = pd.read_csv('/content/drive/MyDrive/Clickbait/Text_Dataset/Validation_Dataset.csv')"
      ],
      "metadata": {
        "id": "hls6Ul7A5J15"
      },
      "execution_count": null,
      "outputs": []
    },
    {
      "cell_type": "code",
      "source": [
        "df= main.append(val, ignore_index=True)"
      ],
      "metadata": {
        "id": "7Pbh2JhZ5bcz"
      },
      "execution_count": null,
      "outputs": []
    },
    {
      "cell_type": "code",
      "source": [
        "df.head()"
      ],
      "metadata": {
        "colab": {
          "base_uri": "https://localhost:8080/",
          "height": 704
        },
        "id": "Pifixg705xJc",
        "outputId": "b683a1da-4014-4b90-beba-e786e7867c23"
      },
      "execution_count": null,
      "outputs": [
        {
          "output_type": "execute_result",
          "data": {
            "text/plain": [
              "                                postMedia  \\\n",
              "0  ['media/photo_858153570478305281.jpg']   \n",
              "1  ['media/photo_858137808657108992.jpg']   \n",
              "2  ['media/photo_858069152451354625.jpg']   \n",
              "3  ['media/photo_858033549995376641.jpg']   \n",
              "4  ['media/photo_857902230321725440.jpg']   \n",
              "\n",
              "                                            postText                  id  \\\n",
              "0  [\"Malls are dying, but it's hard to profit fro...  858153572571197440   \n",
              "1  ['The top 10 best selling comic books of all t...  858137811039465472   \n",
              "2  ['Players to know, QBs to watch and more 👀\\n\\n...  858070460814184448   \n",
              "3  ['Florida officials say no Zika virus has been...  858033553468252160   \n",
              "4  ['White House reporter @alivitali on her first...  857902233232527360   \n",
              "\n",
              "                                      targetCaptions  \\\n",
              "0                                                 []   \n",
              "1                                                 []   \n",
              "2                                 ['NFL Draft logo']   \n",
              "3  ['PHOTO: A mosquito is pictured on a persons a...   \n",
              "4  ['TODAY', 'Image: NBC News reporter Ali Vitali...   \n",
              "\n",
              "                                    targetParagraphs  \\\n",
              "0  ['Lisa Abramowicz is a Bloomberg Gadfly column...   \n",
              "1  ['More', 'By Brian Prowse-Gany', 'In celebrati...   \n",
              "2  ['The first round of the 2017 NFL draft was no...   \n",
              "3  ['With summer approaching, Florida health offi...   \n",
              "4  ['The most consistent thing about my life for ...   \n",
              "\n",
              "                                         targetTitle  \\\n",
              "0          This Big Short Threatens to Be a Big Bust   \n",
              "1  The top 10 best selling comic books of all tim...   \n",
              "2  B/R Presents: NFL1000 Guide to Day 2 of the 20...   \n",
              "3  No Zika detected in Florida mosquitoes so far ...   \n",
              "4     My 100 Days of Covering President Donald Trump   \n",
              "\n",
              "                    postTimestamp  \\\n",
              "0  Sat Apr 29 02:58:50 +0000 2017   \n",
              "1  Sat Apr 29 01:56:12 +0000 2017   \n",
              "2  Fri Apr 28 21:28:34 +0000 2017   \n",
              "3  Fri Apr 28 19:01:55 +0000 2017   \n",
              "4  Fri Apr 28 10:20:06 +0000 2017   \n",
              "\n",
              "                                      targetKeywords  \\\n",
              "0  Infrastructure,Debt,Real Estate,Fund Manager,W...   \n",
              "1                                                NaN   \n",
              "2                 NFL Draft, NFL, Preview Prediction   \n",
              "3  zika, florida, mosquitoes, health news, medica...   \n",
              "4                                                NaN   \n",
              "\n",
              "                                   targetDescription  \\\n",
              "0  The wager worked early on, but time is working...   \n",
              "1  In celebration of National Superhero Day, Yaho...   \n",
              "2  The first round of the 2017  NFL  draft was no...   \n",
              "3  With summer approaching, officials are hoping ...   \n",
              "4  For the past 100 days, my \"office\" has been th...   \n",
              "\n",
              "                                      truthJudgments  truthMean    truthClass  \\\n",
              "0  [0.33333333330000003, 0.0, 0.6666666666000001,...   0.333333  no-clickbait   \n",
              "1           [0.6666666666000001, 1.0, 1.0, 0.0, 1.0]   0.733333     clickbait   \n",
              "2  [1.0, 0.6666666666000001, 0.6666666666000001, ...   0.600000     clickbait   \n",
              "3                          [0.0, 0.0, 0.0, 0.0, 0.0]   0.000000  no-clickbait   \n",
              "4  [0.33333333330000003, 0.0, 0.6666666666000001,...   0.533333     clickbait   \n",
              "\n",
              "   truthMedian  truthMode  \n",
              "0     0.333333   0.333333  \n",
              "1     1.000000   1.000000  \n",
              "2     0.666667   0.666667  \n",
              "3     0.000000   0.000000  \n",
              "4     0.666667   0.666667  "
            ],
            "text/html": [
              "\n",
              "  <div id=\"df-4c043423-83fa-49ea-a170-d30912130ea5\">\n",
              "    <div class=\"colab-df-container\">\n",
              "      <div>\n",
              "<style scoped>\n",
              "    .dataframe tbody tr th:only-of-type {\n",
              "        vertical-align: middle;\n",
              "    }\n",
              "\n",
              "    .dataframe tbody tr th {\n",
              "        vertical-align: top;\n",
              "    }\n",
              "\n",
              "    .dataframe thead th {\n",
              "        text-align: right;\n",
              "    }\n",
              "</style>\n",
              "<table border=\"1\" class=\"dataframe\">\n",
              "  <thead>\n",
              "    <tr style=\"text-align: right;\">\n",
              "      <th></th>\n",
              "      <th>postMedia</th>\n",
              "      <th>postText</th>\n",
              "      <th>id</th>\n",
              "      <th>targetCaptions</th>\n",
              "      <th>targetParagraphs</th>\n",
              "      <th>targetTitle</th>\n",
              "      <th>postTimestamp</th>\n",
              "      <th>targetKeywords</th>\n",
              "      <th>targetDescription</th>\n",
              "      <th>truthJudgments</th>\n",
              "      <th>truthMean</th>\n",
              "      <th>truthClass</th>\n",
              "      <th>truthMedian</th>\n",
              "      <th>truthMode</th>\n",
              "    </tr>\n",
              "  </thead>\n",
              "  <tbody>\n",
              "    <tr>\n",
              "      <th>0</th>\n",
              "      <td>['media/photo_858153570478305281.jpg']</td>\n",
              "      <td>[\"Malls are dying, but it's hard to profit fro...</td>\n",
              "      <td>858153572571197440</td>\n",
              "      <td>[]</td>\n",
              "      <td>['Lisa Abramowicz is a Bloomberg Gadfly column...</td>\n",
              "      <td>This Big Short Threatens to Be a Big Bust</td>\n",
              "      <td>Sat Apr 29 02:58:50 +0000 2017</td>\n",
              "      <td>Infrastructure,Debt,Real Estate,Fund Manager,W...</td>\n",
              "      <td>The wager worked early on, but time is working...</td>\n",
              "      <td>[0.33333333330000003, 0.0, 0.6666666666000001,...</td>\n",
              "      <td>0.333333</td>\n",
              "      <td>no-clickbait</td>\n",
              "      <td>0.333333</td>\n",
              "      <td>0.333333</td>\n",
              "    </tr>\n",
              "    <tr>\n",
              "      <th>1</th>\n",
              "      <td>['media/photo_858137808657108992.jpg']</td>\n",
              "      <td>['The top 10 best selling comic books of all t...</td>\n",
              "      <td>858137811039465472</td>\n",
              "      <td>[]</td>\n",
              "      <td>['More', 'By Brian Prowse-Gany', 'In celebrati...</td>\n",
              "      <td>The top 10 best selling comic books of all tim...</td>\n",
              "      <td>Sat Apr 29 01:56:12 +0000 2017</td>\n",
              "      <td>NaN</td>\n",
              "      <td>In celebration of National Superhero Day, Yaho...</td>\n",
              "      <td>[0.6666666666000001, 1.0, 1.0, 0.0, 1.0]</td>\n",
              "      <td>0.733333</td>\n",
              "      <td>clickbait</td>\n",
              "      <td>1.000000</td>\n",
              "      <td>1.000000</td>\n",
              "    </tr>\n",
              "    <tr>\n",
              "      <th>2</th>\n",
              "      <td>['media/photo_858069152451354625.jpg']</td>\n",
              "      <td>['Players to know, QBs to watch and more 👀\\n\\n...</td>\n",
              "      <td>858070460814184448</td>\n",
              "      <td>['NFL Draft logo']</td>\n",
              "      <td>['The first round of the 2017 NFL draft was no...</td>\n",
              "      <td>B/R Presents: NFL1000 Guide to Day 2 of the 20...</td>\n",
              "      <td>Fri Apr 28 21:28:34 +0000 2017</td>\n",
              "      <td>NFL Draft, NFL, Preview Prediction</td>\n",
              "      <td>The first round of the 2017  NFL  draft was no...</td>\n",
              "      <td>[1.0, 0.6666666666000001, 0.6666666666000001, ...</td>\n",
              "      <td>0.600000</td>\n",
              "      <td>clickbait</td>\n",
              "      <td>0.666667</td>\n",
              "      <td>0.666667</td>\n",
              "    </tr>\n",
              "    <tr>\n",
              "      <th>3</th>\n",
              "      <td>['media/photo_858033549995376641.jpg']</td>\n",
              "      <td>['Florida officials say no Zika virus has been...</td>\n",
              "      <td>858033553468252160</td>\n",
              "      <td>['PHOTO: A mosquito is pictured on a persons a...</td>\n",
              "      <td>['With summer approaching, Florida health offi...</td>\n",
              "      <td>No Zika detected in Florida mosquitoes so far ...</td>\n",
              "      <td>Fri Apr 28 19:01:55 +0000 2017</td>\n",
              "      <td>zika, florida, mosquitoes, health news, medica...</td>\n",
              "      <td>With summer approaching, officials are hoping ...</td>\n",
              "      <td>[0.0, 0.0, 0.0, 0.0, 0.0]</td>\n",
              "      <td>0.000000</td>\n",
              "      <td>no-clickbait</td>\n",
              "      <td>0.000000</td>\n",
              "      <td>0.000000</td>\n",
              "    </tr>\n",
              "    <tr>\n",
              "      <th>4</th>\n",
              "      <td>['media/photo_857902230321725440.jpg']</td>\n",
              "      <td>['White House reporter @alivitali on her first...</td>\n",
              "      <td>857902233232527360</td>\n",
              "      <td>['TODAY', 'Image: NBC News reporter Ali Vitali...</td>\n",
              "      <td>['The most consistent thing about my life for ...</td>\n",
              "      <td>My 100 Days of Covering President Donald Trump</td>\n",
              "      <td>Fri Apr 28 10:20:06 +0000 2017</td>\n",
              "      <td>NaN</td>\n",
              "      <td>For the past 100 days, my \"office\" has been th...</td>\n",
              "      <td>[0.33333333330000003, 0.0, 0.6666666666000001,...</td>\n",
              "      <td>0.533333</td>\n",
              "      <td>clickbait</td>\n",
              "      <td>0.666667</td>\n",
              "      <td>0.666667</td>\n",
              "    </tr>\n",
              "  </tbody>\n",
              "</table>\n",
              "</div>\n",
              "      <button class=\"colab-df-convert\" onclick=\"convertToInteractive('df-4c043423-83fa-49ea-a170-d30912130ea5')\"\n",
              "              title=\"Convert this dataframe to an interactive table.\"\n",
              "              style=\"display:none;\">\n",
              "        \n",
              "  <svg xmlns=\"http://www.w3.org/2000/svg\" height=\"24px\"viewBox=\"0 0 24 24\"\n",
              "       width=\"24px\">\n",
              "    <path d=\"M0 0h24v24H0V0z\" fill=\"none\"/>\n",
              "    <path d=\"M18.56 5.44l.94 2.06.94-2.06 2.06-.94-2.06-.94-.94-2.06-.94 2.06-2.06.94zm-11 1L8.5 8.5l.94-2.06 2.06-.94-2.06-.94L8.5 2.5l-.94 2.06-2.06.94zm10 10l.94 2.06.94-2.06 2.06-.94-2.06-.94-.94-2.06-.94 2.06-2.06.94z\"/><path d=\"M17.41 7.96l-1.37-1.37c-.4-.4-.92-.59-1.43-.59-.52 0-1.04.2-1.43.59L10.3 9.45l-7.72 7.72c-.78.78-.78 2.05 0 2.83L4 21.41c.39.39.9.59 1.41.59.51 0 1.02-.2 1.41-.59l7.78-7.78 2.81-2.81c.8-.78.8-2.07 0-2.86zM5.41 20L4 18.59l7.72-7.72 1.47 1.35L5.41 20z\"/>\n",
              "  </svg>\n",
              "      </button>\n",
              "      \n",
              "  <style>\n",
              "    .colab-df-container {\n",
              "      display:flex;\n",
              "      flex-wrap:wrap;\n",
              "      gap: 12px;\n",
              "    }\n",
              "\n",
              "    .colab-df-convert {\n",
              "      background-color: #E8F0FE;\n",
              "      border: none;\n",
              "      border-radius: 50%;\n",
              "      cursor: pointer;\n",
              "      display: none;\n",
              "      fill: #1967D2;\n",
              "      height: 32px;\n",
              "      padding: 0 0 0 0;\n",
              "      width: 32px;\n",
              "    }\n",
              "\n",
              "    .colab-df-convert:hover {\n",
              "      background-color: #E2EBFA;\n",
              "      box-shadow: 0px 1px 2px rgba(60, 64, 67, 0.3), 0px 1px 3px 1px rgba(60, 64, 67, 0.15);\n",
              "      fill: #174EA6;\n",
              "    }\n",
              "\n",
              "    [theme=dark] .colab-df-convert {\n",
              "      background-color: #3B4455;\n",
              "      fill: #D2E3FC;\n",
              "    }\n",
              "\n",
              "    [theme=dark] .colab-df-convert:hover {\n",
              "      background-color: #434B5C;\n",
              "      box-shadow: 0px 1px 3px 1px rgba(0, 0, 0, 0.15);\n",
              "      filter: drop-shadow(0px 1px 2px rgba(0, 0, 0, 0.3));\n",
              "      fill: #FFFFFF;\n",
              "    }\n",
              "  </style>\n",
              "\n",
              "      <script>\n",
              "        const buttonEl =\n",
              "          document.querySelector('#df-4c043423-83fa-49ea-a170-d30912130ea5 button.colab-df-convert');\n",
              "        buttonEl.style.display =\n",
              "          google.colab.kernel.accessAllowed ? 'block' : 'none';\n",
              "\n",
              "        async function convertToInteractive(key) {\n",
              "          const element = document.querySelector('#df-4c043423-83fa-49ea-a170-d30912130ea5');\n",
              "          const dataTable =\n",
              "            await google.colab.kernel.invokeFunction('convertToInteractive',\n",
              "                                                     [key], {});\n",
              "          if (!dataTable) return;\n",
              "\n",
              "          const docLinkHtml = 'Like what you see? Visit the ' +\n",
              "            '<a target=\"_blank\" href=https://colab.research.google.com/notebooks/data_table.ipynb>data table notebook</a>'\n",
              "            + ' to learn more about interactive tables.';\n",
              "          element.innerHTML = '';\n",
              "          dataTable['output_type'] = 'display_data';\n",
              "          await google.colab.output.renderOutput(dataTable, element);\n",
              "          const docLink = document.createElement('div');\n",
              "          docLink.innerHTML = docLinkHtml;\n",
              "          element.appendChild(docLink);\n",
              "        }\n",
              "      </script>\n",
              "    </div>\n",
              "  </div>\n",
              "  "
            ]
          },
          "metadata": {},
          "execution_count": 10
        }
      ]
    },
    {
      "cell_type": "code",
      "source": [
        "text = df['targetTitle'].values         # Input Feature (Title of media posts)\n",
        "labels = df['truthClass'].values        # Target Class/label"
      ],
      "metadata": {
        "id": "21kHoWF150m5"
      },
      "execution_count": null,
      "outputs": []
    },
    {
      "cell_type": "markdown",
      "source": [
        "# Train test split"
      ],
      "metadata": {
        "id": "4dBdmzLy7eO5"
      }
    },
    {
      "cell_type": "code",
      "source": [
        "from sklearn.model_selection import train_test_split\n",
        "X_train,X_test,y_train,y_test= train_test_split(text, labels,test_size=0.33, random_state=0)"
      ],
      "metadata": {
        "id": "nr-cM2rQ6at5"
      },
      "execution_count": null,
      "outputs": []
    },
    {
      "cell_type": "code",
      "source": [
        "X_train"
      ],
      "metadata": {
        "colab": {
          "base_uri": "https://localhost:8080/"
        },
        "id": "LYE396Fty6cv",
        "outputId": "e2b71204-94e7-42f7-de95-f46c5a10d1de"
      },
      "execution_count": null,
      "outputs": [
        {
          "output_type": "execute_result",
          "data": {
            "text/plain": [
              "array(['5 travel credit card sign-up bonuses to fund your summer trip',\n",
              "       '17 Limited-Edition Beauty Products You Need To Buy\\xa0ASAP',\n",
              "       'After Pre-Election Surge, Apprehensions at Southern Border Hit Five-Year Low',\n",
              "       ...,\n",
              "       '4 Ways Entrepreneurs Can Use Technology To Stay Fit On The Road',\n",
              "       \"Beliebers Can't Get Over Justin Bieber's Four Grammy Nominations: See Their Tweets\",\n",
              "       \"Parents Welcome New Year's Twins Born Minutes Apart, in Different Years \"],\n",
              "      dtype=object)"
            ]
          },
          "metadata": {},
          "execution_count": 31
        }
      ]
    },
    {
      "cell_type": "markdown",
      "source": [
        "# Glove Embedding"
      ],
      "metadata": {
        "id": "BSXNgIl6ByFl"
      }
    },
    {
      "cell_type": "code",
      "source": [
        "from zeugma.embeddings import EmbeddingTransformer\n",
        "\n",
        "glove = EmbeddingTransformer('glove')\n",
        "X_train_glove = glove.transform(X_train)"
      ],
      "metadata": {
        "id": "vzj2e1KudgQU"
      },
      "execution_count": null,
      "outputs": []
    },
    {
      "cell_type": "code",
      "source": [
        "X_test_glove = glove.transform(X_test)"
      ],
      "metadata": {
        "id": "QRorg7ZtiDNf"
      },
      "execution_count": null,
      "outputs": []
    },
    {
      "cell_type": "markdown",
      "source": [
        "# Encoding Target Variable"
      ],
      "metadata": {
        "id": "IKOWCK3i-iwU"
      }
    },
    {
      "cell_type": "code",
      "source": [
        "label_encoder = preprocessing.LabelEncoder()\n",
        "  \n",
        "# Encode labels in column \n",
        "y_train_en= label_encoder.fit_transform(y_train)\n",
        "\n",
        "y_test_en = label_encoder.transform(y_test)\n",
        "\n",
        "target_length = y_train_en.shape"
      ],
      "metadata": {
        "id": "xo6mp6mA6NlV"
      },
      "execution_count": null,
      "outputs": []
    },
    {
      "cell_type": "code",
      "source": [
        "X_train.shape"
      ],
      "metadata": {
        "colab": {
          "base_uri": "https://localhost:8080/"
        },
        "id": "a-3b9y657xqd",
        "outputId": "e13cb788-b264-4e32-c959-6f29a94fd55d"
      },
      "execution_count": null,
      "outputs": [
        {
          "output_type": "execute_result",
          "data": {
            "text/plain": [
              "(14206,)"
            ]
          },
          "metadata": {},
          "execution_count": 37
        }
      ]
    },
    {
      "cell_type": "code",
      "source": [
        "X_train_glove.shape"
      ],
      "metadata": {
        "colab": {
          "base_uri": "https://localhost:8080/"
        },
        "id": "EubIEHb48XKP",
        "outputId": "c79b9085-67c7-4785-9c55-a604b15a01aa"
      },
      "execution_count": null,
      "outputs": [
        {
          "output_type": "execute_result",
          "data": {
            "text/plain": [
              "(14206, 25)"
            ]
          },
          "metadata": {},
          "execution_count": 41
        }
      ]
    },
    {
      "cell_type": "code",
      "source": [
        "#X_train_vect_avg=np.newaxis(X_train_vect_avg)\n",
        "X_train_glove=np.array(X_train_glove)\n",
        "X_train_glove = X_train_glove[:, np.newaxis]\n"
      ],
      "metadata": {
        "id": "_KQB4DbDIQpo"
      },
      "execution_count": null,
      "outputs": []
    },
    {
      "cell_type": "code",
      "source": [
        "X_train_glove.shape"
      ],
      "metadata": {
        "colab": {
          "base_uri": "https://localhost:8080/"
        },
        "id": "h0HC_8jMIo_v",
        "outputId": "3cb327ac-0105-44c5-de18-afcab75a0af8"
      },
      "execution_count": null,
      "outputs": [
        {
          "output_type": "execute_result",
          "data": {
            "text/plain": [
              "(14206, 1, 25)"
            ]
          },
          "metadata": {},
          "execution_count": 65
        }
      ]
    },
    {
      "cell_type": "markdown",
      "source": [
        "# Bi-GRU"
      ],
      "metadata": {
        "id": "Af6m6jGfBm6S"
      }
    },
    {
      "cell_type": "code",
      "source": [
        "model = Sequential()\n",
        "model.add(Dense(100, activation='relu',input_shape=X_train_glove[0].shape)) \n",
        "#model.add(SpatialDropout1D(0.2))\n",
        "model.add(Dropout(0.2))\n",
        "model.add(Bidirectional(GRU(128)))\n",
        "model.add(Dense(128, activation='relu'))\n",
        "model.add(Dropout(0.2))\n",
        "model.add(Dense(1, activation='sigmoid'))\n",
        "model.compile(loss='binary_crossentropy', optimizer='adam', metrics=['accuracy'])\n",
        "\n",
        "callback = tf.keras.callbacks.EarlyStopping(monitor='val_loss', patience=1)\n",
        "model.summary()"
      ],
      "metadata": {
        "colab": {
          "base_uri": "https://localhost:8080/"
        },
        "id": "jop-5KTz_cze",
        "outputId": "9569478f-d8e8-420f-a126-df34f3a8a9b0"
      },
      "execution_count": null,
      "outputs": [
        {
          "output_type": "stream",
          "name": "stdout",
          "text": [
            "Model: \"sequential_2\"\n",
            "_________________________________________________________________\n",
            " Layer (type)                Output Shape              Param #   \n",
            "=================================================================\n",
            " dense_1 (Dense)             (None, 1, 100)            2600      \n",
            "                                                                 \n",
            " dropout_1 (Dropout)         (None, 1, 100)            0         \n",
            "                                                                 \n",
            " bidirectional_1 (Bidirectio  (None, 256)              176640    \n",
            " nal)                                                            \n",
            "                                                                 \n",
            " dense_2 (Dense)             (None, 128)               32896     \n",
            "                                                                 \n",
            " dropout_2 (Dropout)         (None, 128)               0         \n",
            "                                                                 \n",
            " dense_3 (Dense)             (None, 1)                 129       \n",
            "                                                                 \n",
            "=================================================================\n",
            "Total params: 212,265\n",
            "Trainable params: 212,265\n",
            "Non-trainable params: 0\n",
            "_________________________________________________________________\n"
          ]
        }
      ]
    },
    {
      "cell_type": "code",
      "source": [
        "history = model.fit(X_train_glove, y_train_en, epochs=5, \n",
        "                    validation_split=0.3, \n",
        "                    batch_size=128, callbacks=[callback])"
      ],
      "metadata": {
        "colab": {
          "base_uri": "https://localhost:8080/"
        },
        "id": "6VFnt2b0BAsY",
        "outputId": "776fae41-a68a-46bf-938a-c5ef6887f16b"
      },
      "execution_count": null,
      "outputs": [
        {
          "output_type": "stream",
          "name": "stdout",
          "text": [
            "Epoch 1/5\n",
            "78/78 [==============================] - 2s 26ms/step - loss: 0.4824 - accuracy: 0.7874 - val_loss: 0.4934 - val_accuracy: 0.7787\n",
            "Epoch 2/5\n",
            "78/78 [==============================] - 1s 13ms/step - loss: 0.4811 - accuracy: 0.7888 - val_loss: 0.4910 - val_accuracy: 0.7736\n",
            "Epoch 3/5\n",
            "78/78 [==============================] - 1s 14ms/step - loss: 0.4796 - accuracy: 0.7891 - val_loss: 0.4917 - val_accuracy: 0.7755\n"
          ]
        }
      ]
    },
    {
      "cell_type": "markdown",
      "source": [
        "# Testing and Prediction"
      ],
      "metadata": {
        "id": "X9q76Qe0JyOA"
      }
    },
    {
      "cell_type": "code",
      "source": [
        "X_test_glove=np.array(X_test_glove)\n",
        "X_test_glove = X_test_glove[:, np.newaxis]"
      ],
      "metadata": {
        "id": "RWHwapQdI8e3"
      },
      "execution_count": null,
      "outputs": []
    },
    {
      "cell_type": "code",
      "source": [
        "# Use the trained model to make predictions on the test data\n",
        "y_pred = model.predict(X_test_glove)"
      ],
      "metadata": {
        "id": "oanQwHN52lBY",
        "colab": {
          "base_uri": "https://localhost:8080/"
        },
        "outputId": "9d9d7931-6672-47cd-f191-aefdffa68114"
      },
      "execution_count": null,
      "outputs": [
        {
          "output_type": "stream",
          "name": "stdout",
          "text": [
            "219/219 [==============================] - 1s 2ms/step\n"
          ]
        }
      ]
    },
    {
      "cell_type": "code",
      "source": [
        "y_pred"
      ],
      "metadata": {
        "id": "TBQQvSabB5j3",
        "colab": {
          "base_uri": "https://localhost:8080/"
        },
        "outputId": "3b1a8595-9679-431a-e055-a5b8cec4a19c"
      },
      "execution_count": null,
      "outputs": [
        {
          "output_type": "execute_result",
          "data": {
            "text/plain": [
              "array([[0.8996759],\n",
              "       [0.6907985],\n",
              "       [0.6907985],\n",
              "       ...,\n",
              "       [0.6907986],\n",
              "       [0.6907986],\n",
              "       [0.6907986]], dtype=float32)"
            ]
          },
          "metadata": {},
          "execution_count": 68
        }
      ]
    },
    {
      "cell_type": "code",
      "source": [
        "y_pred = np.where(y_pred > 0.5, 1, 0)\n",
        "y_pred"
      ],
      "metadata": {
        "colab": {
          "base_uri": "https://localhost:8080/"
        },
        "id": "f8yStPrVBquf",
        "outputId": "b98b432d-a607-4ca2-fa18-c4e6a8e50faa"
      },
      "execution_count": null,
      "outputs": [
        {
          "output_type": "execute_result",
          "data": {
            "text/plain": [
              "array([1, 1, 1, ..., 1, 1, 1])"
            ]
          },
          "metadata": {},
          "execution_count": 70
        }
      ]
    },
    {
      "cell_type": "markdown",
      "source": [
        "# Metrics"
      ],
      "metadata": {
        "id": "jFJV-klaJ43D"
      }
    },
    {
      "cell_type": "code",
      "source": [
        "from sklearn.metrics import precision_score, recall_score\n",
        "precision = precision_score(y_test_en, y_pred)\n",
        "recall = recall_score(y_test_en, y_pred)\n",
        "print('Precision: {} / Recall: {} / Accuracy: {}'.format(\n",
        "    round(precision, 3), round(recall, 3), round((y_pred==y_test_en).sum()/len(y_pred), 3)))"
      ],
      "metadata": {
        "colab": {
          "base_uri": "https://localhost:8080/"
        },
        "id": "qR3E2EOq2v6f",
        "outputId": "64e5cee6-02c5-4b9d-bc08-17c93f40bccc"
      },
      "execution_count": null,
      "outputs": [
        {
          "output_type": "stream",
          "name": "stdout",
          "text": [
            "Precision: 0.779 / Recall: 0.992 / Accuracy: 0.775\n"
          ]
        }
      ]
    },
    {
      "cell_type": "markdown",
      "source": [
        "# Confusion Matrix"
      ],
      "metadata": {
        "id": "Op06_Gq985_o"
      }
    },
    {
      "cell_type": "code",
      "source": [
        "accuracy=metrics.accuracy_score(y_test_en,y_pred)\n",
        "print('accuracy: %0.3f'%accuracy)\n",
        "cm=metrics.confusion_matrix(y_test_en, y_pred)\n",
        "#plot_confusion_matrix(cm , classes=['FAKE','TRUE'])\n",
        "plt.figure()\n",
        "plot_confusion_matrix(cm, figsize=(12,8), hide_ticks=True, cmap=plt.cm.Blues)\n",
        "plt.xticks(range(2), ['Clickbait','Not clickbait'], fontsize=16)\n",
        "plt.yticks(range(2), ['Clickbait','Not clickbait'], fontsize=16)\n",
        "plt.show()"
      ],
      "metadata": {
        "colab": {
          "base_uri": "https://localhost:8080/",
          "height": 537
        },
        "id": "vztPRcFE6tAT",
        "outputId": "0f15cf26-0bde-41bc-94d7-be099f1bf2f1"
      },
      "execution_count": null,
      "outputs": [
        {
          "output_type": "stream",
          "name": "stdout",
          "text": [
            "accuracy: 0.775\n"
          ]
        },
        {
          "output_type": "display_data",
          "data": {
            "text/plain": [
              "<Figure size 432x288 with 0 Axes>"
            ]
          },
          "metadata": {}
        },
        {
          "output_type": "display_data",
          "data": {
            "text/plain": [
              "<Figure size 864x576 with 1 Axes>"
            ],
            "image/png": "[encoded data removed]"
          },
          "metadata": {
            "needs_background": "light"
          }
        }
      ]
    },
    {
      "cell_type": "markdown",
      "source": [
        "# Accuracy Plot"
      ],
      "metadata": {
        "id": "vN7Qdwyj8_5U"
      }
    },
    {
      "cell_type": "code",
      "source": [
        "from sklearn.metrics import classification_report\n",
        "print(classification_report(y_test_en, y_pred, target_names=['Clickbait','Not clickbait']))"
      ],
      "metadata": {
        "colab": {
          "base_uri": "https://localhost:8080/"
        },
        "id": "4gcP2eNtDLZ-",
        "outputId": "dbb581f4-18b0-415c-9a33-19ace3d67e4c"
      },
      "execution_count": null,
      "outputs": [
        {
          "output_type": "stream",
          "name": "stdout",
          "text": [
            "               precision    recall  f1-score   support\n",
            "\n",
            "    Clickbait       0.53      0.03      0.06      1579\n",
            "Not clickbait       0.78      0.99      0.87      5419\n",
            "\n",
            "     accuracy                           0.78      6998\n",
            "    macro avg       0.65      0.51      0.47      6998\n",
            " weighted avg       0.72      0.78      0.69      6998\n",
            "\n"
          ]
        }
      ]
    }
  ]
}