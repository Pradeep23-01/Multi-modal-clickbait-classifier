{
  "nbformat": 4,
  "nbformat_minor": 0,
  "metadata": {
    "colab": {
      "provenance": []
    },
    "kernelspec": {
      "name": "python3",
      "display_name": "Python 3"
    },
    "language_info": {
      "name": "python"
    },
    "gpuClass": "standard"
  },
  "cells": [
    {
      "cell_type": "markdown",
      "source": [
        "# Installing the required packages"
      ],
      "metadata": {
        "id": "JtFCSM7YKN2w"
      }
    },
    {
      "cell_type": "code",
      "execution_count": null,
      "metadata": {
        "id": "hiUwYlb-5G0_"
      },
      "outputs": [],
      "source": [
        "import pandas as pd\n",
        "from sklearn import preprocessing\n",
        "import numpy as np\n",
        "\n",
        "import tensorflow as tf\n",
        "import tensorflow_hub as hub\n"
      ]
    },
    {
      "cell_type": "code",
      "source": [
        "import gensim"
      ],
      "metadata": {
        "id": "f8MiHGlGyy30"
      },
      "execution_count": null,
      "outputs": []
    },
    {
      "cell_type": "code",
      "source": [
        "print(gensim.__version__)"
      ],
      "metadata": {
        "colab": {
          "base_uri": "https://localhost:8080/"
        },
        "id": "6jdl0ARX1FyG",
        "outputId": "7888f80a-de30-4d5e-e914-57406fd650c3"
      },
      "execution_count": null,
      "outputs": [
        {
          "output_type": "stream",
          "name": "stdout",
          "text": [
            "4.2.0\n"
          ]
        }
      ]
    },
    {
      "cell_type": "code",
      "source": [
        "pip install --upgrade gensim"
      ],
      "metadata": {
        "id": "icGjAYAH1Nf7",
        "colab": {
          "base_uri": "https://localhost:8080/",
          "height": 346
        },
        "outputId": "86d25646-d7ac-49c4-997d-93366db4decb"
      },
      "execution_count": null,
      "outputs": [
        {
          "output_type": "stream",
          "name": "stdout",
          "text": [
            "Looking in indexes: https://pypi.org/simple, https://us-python.pkg.dev/colab-wheels/public/simple/\n",
            "Requirement already satisfied: gensim in /usr/local/lib/python3.7/dist-packages (3.6.0)\n",
            "Collecting gensim\n",
            "  Downloading gensim-4.2.0-cp37-cp37m-manylinux_2_12_x86_64.manylinux2010_x86_64.whl (24.1 MB)\n",
            "\u001b[K     |████████████████████████████████| 24.1 MB 1.4 MB/s \n",
            "\u001b[?25hRequirement already satisfied: smart-open>=1.8.1 in /usr/local/lib/python3.7/dist-packages (from gensim) (5.2.1)\n",
            "Requirement already satisfied: scipy>=0.18.1 in /usr/local/lib/python3.7/dist-packages (from gensim) (1.7.3)\n",
            "Requirement already satisfied: numpy>=1.17.0 in /usr/local/lib/python3.7/dist-packages (from gensim) (1.21.6)\n",
            "Installing collected packages: gensim\n",
            "  Attempting uninstall: gensim\n",
            "    Found existing installation: gensim 3.6.0\n",
            "    Uninstalling gensim-3.6.0:\n",
            "      Successfully uninstalled gensim-3.6.0\n",
            "Successfully installed gensim-4.2.0\n"
          ]
        },
        {
          "output_type": "display_data",
          "data": {
            "application/vnd.colab-display-data+json": {
              "pip_warning": {
                "packages": [
                  "gensim"
                ]
              }
            }
          },
          "metadata": {}
        }
      ]
    },
    {
      "cell_type": "code",
      "source": [
        "from mlxtend.plotting import plot_confusion_matrix\n",
        "from sklearn import metrics\n",
        "\n",
        "import matplotlib.pyplot as plt"
      ],
      "metadata": {
        "id": "XwGpmeA37GLw"
      },
      "execution_count": null,
      "outputs": []
    },
    {
      "cell_type": "code",
      "source": [
        "import pandas as pd\n",
        "import numpy as np\n",
        "from sklearn.model_selection import train_test_split\n",
        "\n",
        "import tensorflow as tf\n",
        "from tensorflow.keras.preprocessing.text import Tokenizer\n",
        "from tensorflow.keras.preprocessing.sequence import pad_sequences\n",
        "from tensorflow.keras.models import Sequential\n",
        "from tensorflow.keras.layers import Embedding, Dense, GRU, Dropout, Bidirectional, SpatialDropout1D\n",
        "from tensorflow.keras.utils import to_categorical\n",
        "\n",
        "from sklearn import preprocessing"
      ],
      "metadata": {
        "id": "q6635Q-p_gar"
      },
      "execution_count": null,
      "outputs": []
    },
    {
      "cell_type": "markdown",
      "source": [
        "# Read Dataset"
      ],
      "metadata": {
        "id": "uU9I9YPw7N63"
      }
    },
    {
      "cell_type": "code",
      "source": [
        "main = pd.read_csv('/content/drive/MyDrive/Clickbait/Text_Dataset/Main_Dataset.csv')\n",
        "val = pd.read_csv('/content/drive/MyDrive/Clickbait/Text_Dataset/Validation_Dataset.csv')"
      ],
      "metadata": {
        "id": "hls6Ul7A5J15"
      },
      "execution_count": null,
      "outputs": []
    },
    {
      "cell_type": "code",
      "source": [
        "df= main.append(val, ignore_index=True)"
      ],
      "metadata": {
        "id": "7Pbh2JhZ5bcz"
      },
      "execution_count": null,
      "outputs": []
    },
    {
      "cell_type": "code",
      "source": [
        "df.head()"
      ],
      "metadata": {
        "colab": {
          "base_uri": "https://localhost:8080/",
          "height": 704
        },
        "id": "Pifixg705xJc",
        "outputId": "c510fe00-e294-4925-c622-880b28c3164d"
      },
      "execution_count": null,
      "outputs": [
        {
          "output_type": "execute_result",
          "data": {
            "text/plain": [
              "                                postMedia  \\\n",
              "0  ['media/photo_858153570478305281.jpg']   \n",
              "1  ['media/photo_858137808657108992.jpg']   \n",
              "2  ['media/photo_858069152451354625.jpg']   \n",
              "3  ['media/photo_858033549995376641.jpg']   \n",
              "4  ['media/photo_857902230321725440.jpg']   \n",
              "\n",
              "                                            postText                  id  \\\n",
              "0  [\"Malls are dying, but it's hard to profit fro...  858153572571197440   \n",
              "1  ['The top 10 best selling comic books of all t...  858137811039465472   \n",
              "2  ['Players to know, QBs to watch and more 👀\\n\\n...  858070460814184448   \n",
              "3  ['Florida officials say no Zika virus has been...  858033553468252160   \n",
              "4  ['White House reporter @alivitali on her first...  857902233232527360   \n",
              "\n",
              "                                      targetCaptions  \\\n",
              "0                                                 []   \n",
              "1                                                 []   \n",
              "2                                 ['NFL Draft logo']   \n",
              "3  ['PHOTO: A mosquito is pictured on a persons a...   \n",
              "4  ['TODAY', 'Image: NBC News reporter Ali Vitali...   \n",
              "\n",
              "                                    targetParagraphs  \\\n",
              "0  ['Lisa Abramowicz is a Bloomberg Gadfly column...   \n",
              "1  ['More', 'By Brian Prowse-Gany', 'In celebrati...   \n",
              "2  ['The first round of the 2017 NFL draft was no...   \n",
              "3  ['With summer approaching, Florida health offi...   \n",
              "4  ['The most consistent thing about my life for ...   \n",
              "\n",
              "                                         targetTitle  \\\n",
              "0          This Big Short Threatens to Be a Big Bust   \n",
              "1  The top 10 best selling comic books of all tim...   \n",
              "2  B/R Presents: NFL1000 Guide to Day 2 of the 20...   \n",
              "3  No Zika detected in Florida mosquitoes so far ...   \n",
              "4     My 100 Days of Covering President Donald Trump   \n",
              "\n",
              "                    postTimestamp  \\\n",
              "0  Sat Apr 29 02:58:50 +0000 2017   \n",
              "1  Sat Apr 29 01:56:12 +0000 2017   \n",
              "2  Fri Apr 28 21:28:34 +0000 2017   \n",
              "3  Fri Apr 28 19:01:55 +0000 2017   \n",
              "4  Fri Apr 28 10:20:06 +0000 2017   \n",
              "\n",
              "                                      targetKeywords  \\\n",
              "0  Infrastructure,Debt,Real Estate,Fund Manager,W...   \n",
              "1                                                NaN   \n",
              "2                 NFL Draft, NFL, Preview Prediction   \n",
              "3  zika, florida, mosquitoes, health news, medica...   \n",
              "4                                                NaN   \n",
              "\n",
              "                                   targetDescription  \\\n",
              "0  The wager worked early on, but time is working...   \n",
              "1  In celebration of National Superhero Day, Yaho...   \n",
              "2  The first round of the 2017  NFL  draft was no...   \n",
              "3  With summer approaching, officials are hoping ...   \n",
              "4  For the past 100 days, my \"office\" has been th...   \n",
              "\n",
              "                                      truthJudgments  truthMean    truthClass  \\\n",
              "0  [0.33333333330000003, 0.0, 0.6666666666000001,...   0.333333  no-clickbait   \n",
              "1           [0.6666666666000001, 1.0, 1.0, 0.0, 1.0]   0.733333     clickbait   \n",
              "2  [1.0, 0.6666666666000001, 0.6666666666000001, ...   0.600000     clickbait   \n",
              "3                          [0.0, 0.0, 0.0, 0.0, 0.0]   0.000000  no-clickbait   \n",
              "4  [0.33333333330000003, 0.0, 0.6666666666000001,...   0.533333     clickbait   \n",
              "\n",
              "   truthMedian  truthMode  \n",
              "0     0.333333   0.333333  \n",
              "1     1.000000   1.000000  \n",
              "2     0.666667   0.666667  \n",
              "3     0.000000   0.000000  \n",
              "4     0.666667   0.666667  "
            ],
            "text/html": [
              "\n",
              "  <div id=\"df-3e2c4f03-2677-4fdf-ad0a-d1eb10086480\">\n",
              "    <div class=\"colab-df-container\">\n",
              "      <div>\n",
              "<style scoped>\n",
              "    .dataframe tbody tr th:only-of-type {\n",
              "        vertical-align: middle;\n",
              "    }\n",
              "\n",
              "    .dataframe tbody tr th {\n",
              "        vertical-align: top;\n",
              "    }\n",
              "\n",
              "    .dataframe thead th {\n",
              "        text-align: right;\n",
              "    }\n",
              "</style>\n",
              "<table border=\"1\" class=\"dataframe\">\n",
              "  <thead>\n",
              "    <tr style=\"text-align: right;\">\n",
              "      <th></th>\n",
              "      <th>postMedia</th>\n",
              "      <th>postText</th>\n",
              "      <th>id</th>\n",
              "      <th>targetCaptions</th>\n",
              "      <th>targetParagraphs</th>\n",
              "      <th>targetTitle</th>\n",
              "      <th>postTimestamp</th>\n",
              "      <th>targetKeywords</th>\n",
              "      <th>targetDescription</th>\n",
              "      <th>truthJudgments</th>\n",
              "      <th>truthMean</th>\n",
              "      <th>truthClass</th>\n",
              "      <th>truthMedian</th>\n",
              "      <th>truthMode</th>\n",
              "    </tr>\n",
              "  </thead>\n",
              "  <tbody>\n",
              "    <tr>\n",
              "      <th>0</th>\n",
              "      <td>['media/photo_858153570478305281.jpg']</td>\n",
              "      <td>[\"Malls are dying, but it's hard to profit fro...</td>\n",
              "      <td>858153572571197440</td>\n",
              "      <td>[]</td>\n",
              "      <td>['Lisa Abramowicz is a Bloomberg Gadfly column...</td>\n",
              "      <td>This Big Short Threatens to Be a Big Bust</td>\n",
              "      <td>Sat Apr 29 02:58:50 +0000 2017</td>\n",
              "      <td>Infrastructure,Debt,Real Estate,Fund Manager,W...</td>\n",
              "      <td>The wager worked early on, but time is working...</td>\n",
              "      <td>[0.33333333330000003, 0.0, 0.6666666666000001,...</td>\n",
              "      <td>0.333333</td>\n",
              "      <td>no-clickbait</td>\n",
              "      <td>0.333333</td>\n",
              "      <td>0.333333</td>\n",
              "    </tr>\n",
              "    <tr>\n",
              "      <th>1</th>\n",
              "      <td>['media/photo_858137808657108992.jpg']</td>\n",
              "      <td>['The top 10 best selling comic books of all t...</td>\n",
              "      <td>858137811039465472</td>\n",
              "      <td>[]</td>\n",
              "      <td>['More', 'By Brian Prowse-Gany', 'In celebrati...</td>\n",
              "      <td>The top 10 best selling comic books of all tim...</td>\n",
              "      <td>Sat Apr 29 01:56:12 +0000 2017</td>\n",
              "      <td>NaN</td>\n",
              "      <td>In celebration of National Superhero Day, Yaho...</td>\n",
              "      <td>[0.6666666666000001, 1.0, 1.0, 0.0, 1.0]</td>\n",
              "      <td>0.733333</td>\n",
              "      <td>clickbait</td>\n",
              "      <td>1.000000</td>\n",
              "      <td>1.000000</td>\n",
              "    </tr>\n",
              "    <tr>\n",
              "      <th>2</th>\n",
              "      <td>['media/photo_858069152451354625.jpg']</td>\n",
              "      <td>['Players to know, QBs to watch and more 👀\\n\\n...</td>\n",
              "      <td>858070460814184448</td>\n",
              "      <td>['NFL Draft logo']</td>\n",
              "      <td>['The first round of the 2017 NFL draft was no...</td>\n",
              "      <td>B/R Presents: NFL1000 Guide to Day 2 of the 20...</td>\n",
              "      <td>Fri Apr 28 21:28:34 +0000 2017</td>\n",
              "      <td>NFL Draft, NFL, Preview Prediction</td>\n",
              "      <td>The first round of the 2017  NFL  draft was no...</td>\n",
              "      <td>[1.0, 0.6666666666000001, 0.6666666666000001, ...</td>\n",
              "      <td>0.600000</td>\n",
              "      <td>clickbait</td>\n",
              "      <td>0.666667</td>\n",
              "      <td>0.666667</td>\n",
              "    </tr>\n",
              "    <tr>\n",
              "      <th>3</th>\n",
              "      <td>['media/photo_858033549995376641.jpg']</td>\n",
              "      <td>['Florida officials say no Zika virus has been...</td>\n",
              "      <td>858033553468252160</td>\n",
              "      <td>['PHOTO: A mosquito is pictured on a persons a...</td>\n",
              "      <td>['With summer approaching, Florida health offi...</td>\n",
              "      <td>No Zika detected in Florida mosquitoes so far ...</td>\n",
              "      <td>Fri Apr 28 19:01:55 +0000 2017</td>\n",
              "      <td>zika, florida, mosquitoes, health news, medica...</td>\n",
              "      <td>With summer approaching, officials are hoping ...</td>\n",
              "      <td>[0.0, 0.0, 0.0, 0.0, 0.0]</td>\n",
              "      <td>0.000000</td>\n",
              "      <td>no-clickbait</td>\n",
              "      <td>0.000000</td>\n",
              "      <td>0.000000</td>\n",
              "    </tr>\n",
              "    <tr>\n",
              "      <th>4</th>\n",
              "      <td>['media/photo_857902230321725440.jpg']</td>\n",
              "      <td>['White House reporter @alivitali on her first...</td>\n",
              "      <td>857902233232527360</td>\n",
              "      <td>['TODAY', 'Image: NBC News reporter Ali Vitali...</td>\n",
              "      <td>['The most consistent thing about my life for ...</td>\n",
              "      <td>My 100 Days of Covering President Donald Trump</td>\n",
              "      <td>Fri Apr 28 10:20:06 +0000 2017</td>\n",
              "      <td>NaN</td>\n",
              "      <td>For the past 100 days, my \"office\" has been th...</td>\n",
              "      <td>[0.33333333330000003, 0.0, 0.6666666666000001,...</td>\n",
              "      <td>0.533333</td>\n",
              "      <td>clickbait</td>\n",
              "      <td>0.666667</td>\n",
              "      <td>0.666667</td>\n",
              "    </tr>\n",
              "  </tbody>\n",
              "</table>\n",
              "</div>\n",
              "      <button class=\"colab-df-convert\" onclick=\"convertToInteractive('df-3e2c4f03-2677-4fdf-ad0a-d1eb10086480')\"\n",
              "              title=\"Convert this dataframe to an interactive table.\"\n",
              "              style=\"display:none;\">\n",
              "        \n",
              "  <svg xmlns=\"http://www.w3.org/2000/svg\" height=\"24px\"viewBox=\"0 0 24 24\"\n",
              "       width=\"24px\">\n",
              "    <path d=\"M0 0h24v24H0V0z\" fill=\"none\"/>\n",
              "    <path d=\"M18.56 5.44l.94 2.06.94-2.06 2.06-.94-2.06-.94-.94-2.06-.94 2.06-2.06.94zm-11 1L8.5 8.5l.94-2.06 2.06-.94-2.06-.94L8.5 2.5l-.94 2.06-2.06.94zm10 10l.94 2.06.94-2.06 2.06-.94-2.06-.94-.94-2.06-.94 2.06-2.06.94z\"/><path d=\"M17.41 7.96l-1.37-1.37c-.4-.4-.92-.59-1.43-.59-.52 0-1.04.2-1.43.59L10.3 9.45l-7.72 7.72c-.78.78-.78 2.05 0 2.83L4 21.41c.39.39.9.59 1.41.59.51 0 1.02-.2 1.41-.59l7.78-7.78 2.81-2.81c.8-.78.8-2.07 0-2.86zM5.41 20L4 18.59l7.72-7.72 1.47 1.35L5.41 20z\"/>\n",
              "  </svg>\n",
              "      </button>\n",
              "      \n",
              "  <style>\n",
              "    .colab-df-container {\n",
              "      display:flex;\n",
              "      flex-wrap:wrap;\n",
              "      gap: 12px;\n",
              "    }\n",
              "\n",
              "    .colab-df-convert {\n",
              "      background-color: #E8F0FE;\n",
              "      border: none;\n",
              "      border-radius: 50%;\n",
              "      cursor: pointer;\n",
              "      display: none;\n",
              "      fill: #1967D2;\n",
              "      height: 32px;\n",
              "      padding: 0 0 0 0;\n",
              "      width: 32px;\n",
              "    }\n",
              "\n",
              "    .colab-df-convert:hover {\n",
              "      background-color: #E2EBFA;\n",
              "      box-shadow: 0px 1px 2px rgba(60, 64, 67, 0.3), 0px 1px 3px 1px rgba(60, 64, 67, 0.15);\n",
              "      fill: #174EA6;\n",
              "    }\n",
              "\n",
              "    [theme=dark] .colab-df-convert {\n",
              "      background-color: #3B4455;\n",
              "      fill: #D2E3FC;\n",
              "    }\n",
              "\n",
              "    [theme=dark] .colab-df-convert:hover {\n",
              "      background-color: #434B5C;\n",
              "      box-shadow: 0px 1px 3px 1px rgba(0, 0, 0, 0.15);\n",
              "      filter: drop-shadow(0px 1px 2px rgba(0, 0, 0, 0.3));\n",
              "      fill: #FFFFFF;\n",
              "    }\n",
              "  </style>\n",
              "\n",
              "      <script>\n",
              "        const buttonEl =\n",
              "          document.querySelector('#df-3e2c4f03-2677-4fdf-ad0a-d1eb10086480 button.colab-df-convert');\n",
              "        buttonEl.style.display =\n",
              "          google.colab.kernel.accessAllowed ? 'block' : 'none';\n",
              "\n",
              "        async function convertToInteractive(key) {\n",
              "          const element = document.querySelector('#df-3e2c4f03-2677-4fdf-ad0a-d1eb10086480');\n",
              "          const dataTable =\n",
              "            await google.colab.kernel.invokeFunction('convertToInteractive',\n",
              "                                                     [key], {});\n",
              "          if (!dataTable) return;\n",
              "\n",
              "          const docLinkHtml = 'Like what you see? Visit the ' +\n",
              "            '<a target=\"_blank\" href=https://colab.research.google.com/notebooks/data_table.ipynb>data table notebook</a>'\n",
              "            + ' to learn more about interactive tables.';\n",
              "          element.innerHTML = '';\n",
              "          dataTable['output_type'] = 'display_data';\n",
              "          await google.colab.output.renderOutput(dataTable, element);\n",
              "          const docLink = document.createElement('div');\n",
              "          docLink.innerHTML = docLinkHtml;\n",
              "          element.appendChild(docLink);\n",
              "        }\n",
              "      </script>\n",
              "    </div>\n",
              "  </div>\n",
              "  "
            ]
          },
          "metadata": {},
          "execution_count": 7
        }
      ]
    },
    {
      "cell_type": "code",
      "source": [
        "text = df['targetTitle'].values         # Input Feature (Title of media posts)\n",
        "labels = df['truthClass'].values        # Target Class/label"
      ],
      "metadata": {
        "id": "21kHoWF150m5"
      },
      "execution_count": null,
      "outputs": []
    },
    {
      "cell_type": "markdown",
      "source": [
        "# Train test split"
      ],
      "metadata": {
        "id": "4dBdmzLy7eO5"
      }
    },
    {
      "cell_type": "code",
      "source": [
        "from sklearn.model_selection import train_test_split\n",
        "X_train,X_test,y_train,y_test= train_test_split(text, labels,test_size=0.33, random_state=0)"
      ],
      "metadata": {
        "id": "nr-cM2rQ6at5"
      },
      "execution_count": null,
      "outputs": []
    },
    {
      "cell_type": "code",
      "source": [
        "X_train"
      ],
      "metadata": {
        "colab": {
          "base_uri": "https://localhost:8080/"
        },
        "id": "LYE396Fty6cv",
        "outputId": "472fc247-d725-4924-a95c-a85fa25133ae"
      },
      "execution_count": null,
      "outputs": [
        {
          "output_type": "execute_result",
          "data": {
            "text/plain": [
              "array(['5 travel credit card sign-up bonuses to fund your summer trip',\n",
              "       '17 Limited-Edition Beauty Products You Need To Buy\\xa0ASAP',\n",
              "       'After Pre-Election Surge, Apprehensions at Southern Border Hit Five-Year Low',\n",
              "       ...,\n",
              "       '4 Ways Entrepreneurs Can Use Technology To Stay Fit On The Road',\n",
              "       \"Beliebers Can't Get Over Justin Bieber's Four Grammy Nominations: See Their Tweets\",\n",
              "       \"Parents Welcome New Year's Twins Born Minutes Apart, in Different Years \"],\n",
              "      dtype=object)"
            ]
          },
          "metadata": {},
          "execution_count": 11
        }
      ]
    },
    {
      "cell_type": "markdown",
      "source": [
        "# FastText Embedding"
      ],
      "metadata": {
        "id": "BSXNgIl6ByFl"
      }
    },
    {
      "cell_type": "code",
      "source": [
        "# Train the FastText model\n",
        "fasttext_model = gensim.models.FastText(X_train,\n",
        "                                   vector_size=100,\n",
        "                                   window=5,\n",
        "                                   min_count=2)"
      ],
      "metadata": {
        "colab": {
          "base_uri": "https://localhost:8080/"
        },
        "id": "DmtDHFQTy5rv",
        "outputId": "e2d4f5b1-315b-4cf8-ebef-b82402d2612b"
      },
      "execution_count": null,
      "outputs": [
        {
          "output_type": "stream",
          "name": "stderr",
          "text": [
            "WARNING:gensim.models.word2vec:Each 'sentences' item should be a list of words (usually unicode strings). First item here is instead plain <class 'str'>.\n"
          ]
        }
      ]
    },
    {
      "cell_type": "code",
      "source": [
        "words = set(fasttext_model.wv.index_to_key )\n",
        "X_train_vect = np.array([np.array([fasttext_model.wv[i] for i in ls if i in words])\n",
        "                         for ls in X_train])\n",
        "X_test_vect = np.array([np.array([fasttext_model.wv[i] for i in ls if i in words])\n",
        "                         for ls in X_test])"
      ],
      "metadata": {
        "colab": {
          "base_uri": "https://localhost:8080/"
        },
        "id": "QmvBDjyIzLy7",
        "outputId": "01524304-552c-4759-8aa0-a617156a9a00"
      },
      "execution_count": null,
      "outputs": [
        {
          "output_type": "stream",
          "name": "stderr",
          "text": [
            "/usr/local/lib/python3.7/dist-packages/ipykernel_launcher.py:3: VisibleDeprecationWarning: Creating an ndarray from ragged nested sequences (which is a list-or-tuple of lists-or-tuples-or ndarrays with different lengths or shapes) is deprecated. If you meant to do this, you must specify 'dtype=object' when creating the ndarray.\n",
            "  This is separate from the ipykernel package so we can avoid doing imports until\n",
            "/usr/local/lib/python3.7/dist-packages/ipykernel_launcher.py:5: VisibleDeprecationWarning: Creating an ndarray from ragged nested sequences (which is a list-or-tuple of lists-or-tuples-or ndarrays with different lengths or shapes) is deprecated. If you meant to do this, you must specify 'dtype=object' when creating the ndarray.\n",
            "  \"\"\"\n"
          ]
        }
      ]
    },
    {
      "cell_type": "code",
      "source": [
        "# Compute sentence vectors by averaging the word vectors for the words contained in the sentence\n",
        "X_train_vect_avg = []\n",
        "for v in X_train_vect:\n",
        "    if v.size:\n",
        "        X_train_vect_avg.append(v.mean(axis=0))\n",
        "    else:\n",
        "        X_train_vect_avg.append(np.zeros(100, dtype=float))\n",
        "        \n",
        "X_test_vect_avg = []\n",
        "for v in X_test_vect:\n",
        "    if v.size:\n",
        "        X_test_vect_avg.append(v.mean(axis=0))\n",
        "    else:\n",
        "        X_test_vect_avg.append(np.zeros(100, dtype=float))"
      ],
      "metadata": {
        "id": "ME2eXSx60rdA"
      },
      "execution_count": null,
      "outputs": []
    },
    {
      "cell_type": "markdown",
      "source": [
        "# Encoding Target Variable"
      ],
      "metadata": {
        "id": "IKOWCK3i-iwU"
      }
    },
    {
      "cell_type": "code",
      "source": [
        "label_encoder = preprocessing.LabelEncoder()\n",
        "  \n",
        "# Encode labels in a column \n",
        "y_train_en= label_encoder.fit_transform(y_train)\n",
        "\n",
        "y_test_en = label_encoder.transform(y_test)\n",
        "\n",
        "target_length = y_train_en.shape"
      ],
      "metadata": {
        "id": "xo6mp6mA6NlV"
      },
      "execution_count": null,
      "outputs": []
    },
    {
      "cell_type": "code",
      "source": [
        "X_train.shape"
      ],
      "metadata": {
        "colab": {
          "base_uri": "https://localhost:8080/"
        },
        "id": "a-3b9y657xqd",
        "outputId": "ad868f21-26fb-4493-f0cc-e30b0e736a0e"
      },
      "execution_count": null,
      "outputs": [
        {
          "output_type": "execute_result",
          "data": {
            "text/plain": [
              "(14206,)"
            ]
          },
          "metadata": {},
          "execution_count": 21
        }
      ]
    },
    {
      "cell_type": "code",
      "source": [
        "X_train_vect_avg[0].shape"
      ],
      "metadata": {
        "colab": {
          "base_uri": "https://localhost:8080/"
        },
        "id": "EubIEHb48XKP",
        "outputId": "4472a972-ceb3-4619-a12a-8631c18cc535"
      },
      "execution_count": null,
      "outputs": [
        {
          "output_type": "execute_result",
          "data": {
            "text/plain": [
              "(100,)"
            ]
          },
          "metadata": {},
          "execution_count": 22
        }
      ]
    },
    {
      "cell_type": "code",
      "source": [
        "X_train_vect_avg=np.array(X_train_vect_avg)\n",
        "X_train_vect_avg = X_train_vect_avg[:, np.newaxis]"
      ],
      "metadata": {
        "id": "_KQB4DbDIQpo"
      },
      "execution_count": null,
      "outputs": []
    },
    {
      "cell_type": "code",
      "source": [
        "X_train_vect_avg.shape"
      ],
      "metadata": {
        "colab": {
          "base_uri": "https://localhost:8080/"
        },
        "id": "h0HC_8jMIo_v",
        "outputId": "35720d34-1d9b-4936-f69c-f4f828e7ce20"
      },
      "execution_count": null,
      "outputs": [
        {
          "output_type": "execute_result",
          "data": {
            "text/plain": [
              "(14206, 1, 100)"
            ]
          },
          "metadata": {},
          "execution_count": 25
        }
      ]
    },
    {
      "cell_type": "markdown",
      "source": [
        "# Bi-GRU"
      ],
      "metadata": {
        "id": "Af6m6jGfBm6S"
      }
    },
    {
      "cell_type": "code",
      "source": [
        "model = Sequential()\n",
        "model.add(Dense(100, activation='relu',input_shape=X_train_vect_avg[0].shape))  \n",
        "#model.add(SpatialDropout1D(0.2))\n",
        "model.add(Dropout(0.2))\n",
        "model.add(Bidirectional(GRU(128)))\n",
        "model.add(Dense(128, activation='relu'))\n",
        "model.add(Dropout(0.2))\n",
        "model.add(Dense(1, activation='sigmoid'))\n",
        "model.compile(loss='binary_crossentropy', optimizer='adam', metrics=['accuracy'])\n",
        "\n",
        "callback = tf.keras.callbacks.EarlyStopping(monitor='val_loss', patience=1)\n",
        "model.summary()"
      ],
      "metadata": {
        "colab": {
          "base_uri": "https://localhost:8080/"
        },
        "id": "jop-5KTz_cze",
        "outputId": "6b5c9240-9588-4815-d9a6-6fb893710b29"
      },
      "execution_count": null,
      "outputs": [
        {
          "output_type": "stream",
          "name": "stdout",
          "text": [
            "Model: \"sequential\"\n",
            "_________________________________________________________________\n",
            " Layer (type)                Output Shape              Param #   \n",
            "=================================================================\n",
            " dense (Dense)               (None, 1, 100)            10100     \n",
            "                                                                 \n",
            " dropout (Dropout)           (None, 1, 100)            0         \n",
            "                                                                 \n",
            " bidirectional (Bidirectiona  (None, 256)              176640    \n",
            " l)                                                              \n",
            "                                                                 \n",
            " dense_1 (Dense)             (None, 128)               32896     \n",
            "                                                                 \n",
            " dropout_1 (Dropout)         (None, 128)               0         \n",
            "                                                                 \n",
            " dense_2 (Dense)             (None, 1)                 129       \n",
            "                                                                 \n",
            "=================================================================\n",
            "Total params: 219,765\n",
            "Trainable params: 219,765\n",
            "Non-trainable params: 0\n",
            "_________________________________________________________________\n"
          ]
        }
      ]
    },
    {
      "cell_type": "code",
      "source": [
        "history = model.fit(X_train_vect_avg, y_train_en, epochs=5, \n",
        "                    validation_split=0.3, \n",
        "                    batch_size=128, callbacks=[callback])"
      ],
      "metadata": {
        "colab": {
          "base_uri": "https://localhost:8080/"
        },
        "id": "6VFnt2b0BAsY",
        "outputId": "16d12bda-1a4e-4dd7-f901-2a70c5f399ed"
      },
      "execution_count": null,
      "outputs": [
        {
          "output_type": "stream",
          "name": "stdout",
          "text": [
            "Epoch 1/5\n",
            "78/78 [==============================] - 7s 35ms/step - loss: 0.5165 - accuracy: 0.7866 - val_loss: 0.5101 - val_accuracy: 0.7715\n",
            "Epoch 2/5\n",
            "78/78 [==============================] - 1s 15ms/step - loss: 0.4904 - accuracy: 0.7894 - val_loss: 0.4842 - val_accuracy: 0.7811\n",
            "Epoch 3/5\n",
            "78/78 [==============================] - 1s 14ms/step - loss: 0.4841 - accuracy: 0.7916 - val_loss: 0.4810 - val_accuracy: 0.7820\n",
            "Epoch 4/5\n",
            "78/78 [==============================] - 1s 15ms/step - loss: 0.4763 - accuracy: 0.7941 - val_loss: 0.4916 - val_accuracy: 0.7785\n"
          ]
        }
      ]
    },
    {
      "cell_type": "markdown",
      "source": [
        "# Testing and Prediction"
      ],
      "metadata": {
        "id": "X9q76Qe0JyOA"
      }
    },
    {
      "cell_type": "code",
      "source": [
        "X_test_vect_avg=np.array(X_test_vect_avg)\n",
        "X_test_vect_avg = X_test_vect_avg[:, np.newaxis]"
      ],
      "metadata": {
        "id": "RWHwapQdI8e3"
      },
      "execution_count": null,
      "outputs": []
    },
    {
      "cell_type": "code",
      "source": [
        "# Use the trained model to make predictions on the test data\n",
        "y_pred = model.predict(X_test_vect_avg)"
      ],
      "metadata": {
        "id": "oanQwHN52lBY",
        "colab": {
          "base_uri": "https://localhost:8080/"
        },
        "outputId": "2a4e7271-77ac-4db5-dd30-076c3829782c"
      },
      "execution_count": null,
      "outputs": [
        {
          "output_type": "stream",
          "name": "stdout",
          "text": [
            "219/219 [==============================] - 1s 2ms/step\n"
          ]
        }
      ]
    },
    {
      "cell_type": "code",
      "source": [
        "y_pred"
      ],
      "metadata": {
        "id": "TBQQvSabB5j3",
        "colab": {
          "base_uri": "https://localhost:8080/"
        },
        "outputId": "23224877-07df-4030-8722-55ccc11acd9d"
      },
      "execution_count": null,
      "outputs": [
        {
          "output_type": "execute_result",
          "data": {
            "text/plain": [
              "array([[0.9231988 ],\n",
              "       [0.89575624],\n",
              "       [0.9133108 ],\n",
              "       ...,\n",
              "       [0.624819  ],\n",
              "       [0.8722327 ],\n",
              "       [0.84997535]], dtype=float32)"
            ]
          },
          "metadata": {},
          "execution_count": 30
        }
      ]
    },
    {
      "cell_type": "code",
      "source": [
        "y_pred = np.where(y_pred > 0.5, 1, 0)\n",
        "y_pred"
      ],
      "metadata": {
        "colab": {
          "base_uri": "https://localhost:8080/"
        },
        "id": "f8yStPrVBquf",
        "outputId": "1a3a565d-02ee-4a63-fd64-11cb3ef6a7f1"
      },
      "execution_count": null,
      "outputs": [
        {
          "output_type": "execute_result",
          "data": {
            "text/plain": [
              "array([1, 1, 1, ..., 1, 1, 1])"
            ]
          },
          "metadata": {},
          "execution_count": 33
        }
      ]
    },
    {
      "cell_type": "markdown",
      "source": [
        "# Metrics"
      ],
      "metadata": {
        "id": "jFJV-klaJ43D"
      }
    },
    {
      "cell_type": "code",
      "source": [
        "from sklearn.metrics import precision_score, recall_score\n",
        "precision = precision_score(y_test_en, y_pred)\n",
        "recall = recall_score(y_test_en, y_pred)\n",
        "print('Precision: {} / Recall: {} / Accuracy: {}'.format(\n",
        "    round(precision, 3), round(recall, 3), round((y_pred==y_test_en).sum()/len(y_pred), 3)))"
      ],
      "metadata": {
        "colab": {
          "base_uri": "https://localhost:8080/"
        },
        "id": "qR3E2EOq2v6f",
        "outputId": "63e1f9d0-cca3-4017-ce12-2da2c94f6eec"
      },
      "execution_count": null,
      "outputs": [
        {
          "output_type": "stream",
          "name": "stdout",
          "text": [
            "Precision: 0.788 / Recall: 0.989 / Accuracy: 0.786\n"
          ]
        }
      ]
    },
    {
      "cell_type": "markdown",
      "source": [
        "# Confusion Matrix"
      ],
      "metadata": {
        "id": "Op06_Gq985_o"
      }
    },
    {
      "cell_type": "code",
      "source": [
        "accuracy=metrics.accuracy_score(y_test_en,y_pred)\n",
        "print('accuracy: %0.3f'%accuracy)\n",
        "cm=metrics.confusion_matrix(y_test_en, y_pred)\n",
        "#plot_confusion_matrix(cm , classes=['FAKE','TRUE'])\n",
        "plt.figure()\n",
        "plot_confusion_matrix(cm, figsize=(12,8), hide_ticks=True, cmap=plt.cm.Blues)\n",
        "plt.xticks(range(2), ['Clickbait','Not clickbait'], fontsize=16)\n",
        "plt.yticks(range(2), ['Clickbait','Not clickbait'], fontsize=16)\n",
        "plt.show()"
      ],
      "metadata": {
        "colab": {
          "base_uri": "https://localhost:8080/",
          "height": 537
        },
        "id": "vztPRcFE6tAT",
        "outputId": "7adb8707-d093-46c8-c16c-a2a517b86cad"
      },
      "execution_count": null,
      "outputs": [
        {
          "output_type": "stream",
          "name": "stdout",
          "text": [
            "accuracy: 0.786\n"
          ]
        },
        {
          "output_type": "display_data",
          "data": {
            "text/plain": [
              "<Figure size 432x288 with 0 Axes>"
            ]
          },
          "metadata": {}
        },
        {
          "output_type": "display_data",
          "data": {
            "text/plain": [
              "<Figure size 864x576 with 1 Axes>"
            ],
            "image/png": "[encoded data removed]"
          },
          "metadata": {
            "needs_background": "light"
          }
        }
      ]
    },
    {
      "cell_type": "markdown",
      "source": [
        "# Accuracy Plot"
      ],
      "metadata": {
        "id": "vN7Qdwyj8_5U"
      }
    },
    {
      "cell_type": "code",
      "source": [
        "from sklearn.metrics import classification_report\n",
        "print(classification_report(y_test_en, y_pred, target_names=['Clickbait','Not clickbait']))"
      ],
      "metadata": {
        "colab": {
          "base_uri": "https://localhost:8080/"
        },
        "id": "4gcP2eNtDLZ-",
        "outputId": "3e86df55-22ea-47f3-c66a-378fe7b11f18"
      },
      "execution_count": null,
      "outputs": [
        {
          "output_type": "stream",
          "name": "stdout",
          "text": [
            "               precision    recall  f1-score   support\n",
            "\n",
            "    Clickbait       0.70      0.09      0.15      1579\n",
            "Not clickbait       0.79      0.99      0.88      5419\n",
            "\n",
            "     accuracy                           0.79      6998\n",
            "    macro avg       0.74      0.54      0.52      6998\n",
            " weighted avg       0.77      0.79      0.71      6998\n",
            "\n"
          ]
        }
      ]
    }
  ]
}