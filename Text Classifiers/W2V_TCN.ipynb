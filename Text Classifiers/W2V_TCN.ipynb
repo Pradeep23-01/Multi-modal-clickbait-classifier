{
  "nbformat": 4,
  "nbformat_minor": 0,
  "metadata": {
    "colab": {
      "provenance": [],
      "collapsed_sections": [
        "PeEq3qZb1WLT"
      ]
    },
    "kernelspec": {
      "name": "python3",
      "display_name": "Python 3"
    },
    "language_info": {
      "name": "python"
    },
    "gpuClass": "standard"
  },
  "cells": [
    {
      "cell_type": "markdown",
      "source": [
        "# Installing the required packages"
      ],
      "metadata": {
        "id": "JtFCSM7YKN2w"
      }
    },
    {
      "cell_type": "code",
      "source": [
        "import gensim"
      ],
      "metadata": {
        "id": "f8MiHGlGyy30"
      },
      "execution_count": null,
      "outputs": []
    },
    {
      "cell_type": "code",
      "source": [
        "print(gensim.__version__)"
      ],
      "metadata": {
        "colab": {
          "base_uri": "https://localhost:8080/"
        },
        "id": "6jdl0ARX1FyG",
        "outputId": "d93e4915-8131-4f8c-8a0b-ac3c4a6a48c1"
      },
      "execution_count": null,
      "outputs": [
        {
          "output_type": "stream",
          "name": "stdout",
          "text": [
            "4.2.0\n"
          ]
        }
      ]
    },
    {
      "cell_type": "code",
      "source": [
        "pip install --upgrade gensim"
      ],
      "metadata": {
        "id": "icGjAYAH1Nf7",
        "colab": {
          "base_uri": "https://localhost:8080/",
          "height": 346
        },
        "outputId": "7c62b177-d075-49cd-c4e8-6f233974ca06"
      },
      "execution_count": null,
      "outputs": [
        {
          "output_type": "stream",
          "name": "stdout",
          "text": [
            "Looking in indexes: https://pypi.org/simple, https://us-python.pkg.dev/colab-wheels/public/simple/\n",
            "Requirement already satisfied: gensim in /usr/local/lib/python3.7/dist-packages (3.6.0)\n",
            "Collecting gensim\n",
            "  Downloading gensim-4.2.0-cp37-cp37m-manylinux_2_12_x86_64.manylinux2010_x86_64.whl (24.1 MB)\n",
            "\u001b[K     |████████████████████████████████| 24.1 MB 72.0 MB/s \n",
            "\u001b[?25hRequirement already satisfied: numpy>=1.17.0 in /usr/local/lib/python3.7/dist-packages (from gensim) (1.21.6)\n",
            "Requirement already satisfied: scipy>=0.18.1 in /usr/local/lib/python3.7/dist-packages (from gensim) (1.7.3)\n",
            "Requirement already satisfied: smart-open>=1.8.1 in /usr/local/lib/python3.7/dist-packages (from gensim) (5.2.1)\n",
            "Installing collected packages: gensim\n",
            "  Attempting uninstall: gensim\n",
            "    Found existing installation: gensim 3.6.0\n",
            "    Uninstalling gensim-3.6.0:\n",
            "      Successfully uninstalled gensim-3.6.0\n",
            "Successfully installed gensim-4.2.0\n"
          ]
        },
        {
          "output_type": "display_data",
          "data": {
            "application/vnd.colab-display-data+json": {
              "pip_warning": {
                "packages": [
                  "gensim"
                ]
              }
            }
          },
          "metadata": {}
        }
      ]
    },
    {
      "cell_type": "code",
      "source": [
        "!pip install keras-tcn"
      ],
      "metadata": {
        "colab": {
          "base_uri": "https://localhost:8080/"
        },
        "id": "JzACis42ne_M",
        "outputId": "3d51f467-c30e-41c2-f4b0-84ba3371d06f"
      },
      "execution_count": null,
      "outputs": [
        {
          "output_type": "stream",
          "name": "stdout",
          "text": [
            "Looking in indexes: https://pypi.org/simple, https://us-python.pkg.dev/colab-wheels/public/simple/\n",
            "Collecting keras-tcn\n",
            "  Downloading keras_tcn-3.5.0-py3-none-any.whl (13 kB)\n",
            "Collecting tensorflow-addons\n",
            "  Downloading tensorflow_addons-0.18.0-cp37-cp37m-manylinux_2_17_x86_64.manylinux2014_x86_64.whl (1.1 MB)\n",
            "\u001b[K     |████████████████████████████████| 1.1 MB 7.0 MB/s \n",
            "\u001b[?25hRequirement already satisfied: tensorflow in /usr/local/lib/python3.7/dist-packages (from keras-tcn) (2.9.2)\n",
            "Requirement already satisfied: numpy in /usr/local/lib/python3.7/dist-packages (from keras-tcn) (1.21.6)\n",
            "Requirement already satisfied: six>=1.12.0 in /usr/local/lib/python3.7/dist-packages (from tensorflow->keras-tcn) (1.15.0)\n",
            "Requirement already satisfied: tensorboard<2.10,>=2.9 in /usr/local/lib/python3.7/dist-packages (from tensorflow->keras-tcn) (2.9.1)\n",
            "Requirement already satisfied: astunparse>=1.6.0 in /usr/local/lib/python3.7/dist-packages (from tensorflow->keras-tcn) (1.6.3)\n",
            "Requirement already satisfied: tensorflow-io-gcs-filesystem>=0.23.1 in /usr/local/lib/python3.7/dist-packages (from tensorflow->keras-tcn) (0.27.0)\n",
            "Requirement already satisfied: grpcio<2.0,>=1.24.3 in /usr/local/lib/python3.7/dist-packages (from tensorflow->keras-tcn) (1.50.0)\n",
            "Requirement already satisfied: gast<=0.4.0,>=0.2.1 in /usr/local/lib/python3.7/dist-packages (from tensorflow->keras-tcn) (0.4.0)\n",
            "Requirement already satisfied: absl-py>=1.0.0 in /usr/local/lib/python3.7/dist-packages (from tensorflow->keras-tcn) (1.3.0)\n",
            "Requirement already satisfied: typing-extensions>=3.6.6 in /usr/local/lib/python3.7/dist-packages (from tensorflow->keras-tcn) (4.1.1)\n",
            "Requirement already satisfied: keras-preprocessing>=1.1.1 in /usr/local/lib/python3.7/dist-packages (from tensorflow->keras-tcn) (1.1.2)\n",
            "Requirement already satisfied: packaging in /usr/local/lib/python3.7/dist-packages (from tensorflow->keras-tcn) (21.3)\n",
            "Requirement already satisfied: tensorflow-estimator<2.10.0,>=2.9.0rc0 in /usr/local/lib/python3.7/dist-packages (from tensorflow->keras-tcn) (2.9.0)\n",
            "Requirement already satisfied: protobuf<3.20,>=3.9.2 in /usr/local/lib/python3.7/dist-packages (from tensorflow->keras-tcn) (3.19.6)\n",
            "Requirement already satisfied: flatbuffers<2,>=1.12 in /usr/local/lib/python3.7/dist-packages (from tensorflow->keras-tcn) (1.12)\n",
            "Requirement already satisfied: termcolor>=1.1.0 in /usr/local/lib/python3.7/dist-packages (from tensorflow->keras-tcn) (2.1.0)\n",
            "Requirement already satisfied: opt-einsum>=2.3.2 in /usr/local/lib/python3.7/dist-packages (from tensorflow->keras-tcn) (3.3.0)\n",
            "Requirement already satisfied: setuptools in /usr/local/lib/python3.7/dist-packages (from tensorflow->keras-tcn) (57.4.0)\n",
            "Requirement already satisfied: h5py>=2.9.0 in /usr/local/lib/python3.7/dist-packages (from tensorflow->keras-tcn) (3.1.0)\n",
            "Requirement already satisfied: google-pasta>=0.1.1 in /usr/local/lib/python3.7/dist-packages (from tensorflow->keras-tcn) (0.2.0)\n",
            "Requirement already satisfied: wrapt>=1.11.0 in /usr/local/lib/python3.7/dist-packages (from tensorflow->keras-tcn) (1.14.1)\n",
            "Requirement already satisfied: libclang>=13.0.0 in /usr/local/lib/python3.7/dist-packages (from tensorflow->keras-tcn) (14.0.6)\n",
            "Requirement already satisfied: keras<2.10.0,>=2.9.0rc0 in /usr/local/lib/python3.7/dist-packages (from tensorflow->keras-tcn) (2.9.0)\n",
            "Requirement already satisfied: wheel<1.0,>=0.23.0 in /usr/local/lib/python3.7/dist-packages (from astunparse>=1.6.0->tensorflow->keras-tcn) (0.38.3)\n",
            "Requirement already satisfied: cached-property in /usr/local/lib/python3.7/dist-packages (from h5py>=2.9.0->tensorflow->keras-tcn) (1.5.2)\n",
            "Requirement already satisfied: google-auth-oauthlib<0.5,>=0.4.1 in /usr/local/lib/python3.7/dist-packages (from tensorboard<2.10,>=2.9->tensorflow->keras-tcn) (0.4.6)\n",
            "Requirement already satisfied: requests<3,>=2.21.0 in /usr/local/lib/python3.7/dist-packages (from tensorboard<2.10,>=2.9->tensorflow->keras-tcn) (2.23.0)\n",
            "Requirement already satisfied: tensorboard-data-server<0.7.0,>=0.6.0 in /usr/local/lib/python3.7/dist-packages (from tensorboard<2.10,>=2.9->tensorflow->keras-tcn) (0.6.1)\n",
            "Requirement already satisfied: werkzeug>=1.0.1 in /usr/local/lib/python3.7/dist-packages (from tensorboard<2.10,>=2.9->tensorflow->keras-tcn) (1.0.1)\n",
            "Requirement already satisfied: google-auth<3,>=1.6.3 in /usr/local/lib/python3.7/dist-packages (from tensorboard<2.10,>=2.9->tensorflow->keras-tcn) (2.14.1)\n",
            "Requirement already satisfied: markdown>=2.6.8 in /usr/local/lib/python3.7/dist-packages (from tensorboard<2.10,>=2.9->tensorflow->keras-tcn) (3.4.1)\n",
            "Requirement already satisfied: tensorboard-plugin-wit>=1.6.0 in /usr/local/lib/python3.7/dist-packages (from tensorboard<2.10,>=2.9->tensorflow->keras-tcn) (1.8.1)\n",
            "Requirement already satisfied: cachetools<6.0,>=2.0.0 in /usr/local/lib/python3.7/dist-packages (from google-auth<3,>=1.6.3->tensorboard<2.10,>=2.9->tensorflow->keras-tcn) (5.2.0)\n",
            "Requirement already satisfied: rsa<5,>=3.1.4 in /usr/local/lib/python3.7/dist-packages (from google-auth<3,>=1.6.3->tensorboard<2.10,>=2.9->tensorflow->keras-tcn) (4.9)\n",
            "Requirement already satisfied: pyasn1-modules>=0.2.1 in /usr/local/lib/python3.7/dist-packages (from google-auth<3,>=1.6.3->tensorboard<2.10,>=2.9->tensorflow->keras-tcn) (0.2.8)\n",
            "Requirement already satisfied: requests-oauthlib>=0.7.0 in /usr/local/lib/python3.7/dist-packages (from google-auth-oauthlib<0.5,>=0.4.1->tensorboard<2.10,>=2.9->tensorflow->keras-tcn) (1.3.1)\n",
            "Requirement already satisfied: importlib-metadata>=4.4 in /usr/local/lib/python3.7/dist-packages (from markdown>=2.6.8->tensorboard<2.10,>=2.9->tensorflow->keras-tcn) (4.13.0)\n",
            "Requirement already satisfied: zipp>=0.5 in /usr/local/lib/python3.7/dist-packages (from importlib-metadata>=4.4->markdown>=2.6.8->tensorboard<2.10,>=2.9->tensorflow->keras-tcn) (3.10.0)\n",
            "Requirement already satisfied: pyasn1<0.5.0,>=0.4.6 in /usr/local/lib/python3.7/dist-packages (from pyasn1-modules>=0.2.1->google-auth<3,>=1.6.3->tensorboard<2.10,>=2.9->tensorflow->keras-tcn) (0.4.8)\n",
            "Requirement already satisfied: urllib3!=1.25.0,!=1.25.1,<1.26,>=1.21.1 in /usr/local/lib/python3.7/dist-packages (from requests<3,>=2.21.0->tensorboard<2.10,>=2.9->tensorflow->keras-tcn) (1.24.3)\n",
            "Requirement already satisfied: certifi>=2017.4.17 in /usr/local/lib/python3.7/dist-packages (from requests<3,>=2.21.0->tensorboard<2.10,>=2.9->tensorflow->keras-tcn) (2022.9.24)\n",
            "Requirement already satisfied: chardet<4,>=3.0.2 in /usr/local/lib/python3.7/dist-packages (from requests<3,>=2.21.0->tensorboard<2.10,>=2.9->tensorflow->keras-tcn) (3.0.4)\n",
            "Requirement already satisfied: idna<3,>=2.5 in /usr/local/lib/python3.7/dist-packages (from requests<3,>=2.21.0->tensorboard<2.10,>=2.9->tensorflow->keras-tcn) (2.10)\n",
            "Requirement already satisfied: oauthlib>=3.0.0 in /usr/local/lib/python3.7/dist-packages (from requests-oauthlib>=0.7.0->google-auth-oauthlib<0.5,>=0.4.1->tensorboard<2.10,>=2.9->tensorflow->keras-tcn) (3.2.2)\n",
            "Requirement already satisfied: pyparsing!=3.0.5,>=2.0.2 in /usr/local/lib/python3.7/dist-packages (from packaging->tensorflow->keras-tcn) (3.0.9)\n",
            "Requirement already satisfied: typeguard>=2.7 in /usr/local/lib/python3.7/dist-packages (from tensorflow-addons->keras-tcn) (2.7.1)\n",
            "Installing collected packages: tensorflow-addons, keras-tcn\n",
            "Successfully installed keras-tcn-3.5.0 tensorflow-addons-0.18.0\n"
          ]
        }
      ]
    },
    {
      "cell_type": "code",
      "source": [
        "import pandas as pd\n",
        "import numpy as np\n",
        "from sklearn.model_selection import train_test_split\n",
        "\n",
        "import tensorflow as tf\n",
        "from tensorflow.keras.preprocessing.text import Tokenizer\n",
        "from tensorflow.keras.preprocessing.sequence import pad_sequences\n",
        "from tensorflow.keras.models import Sequential\n",
        "from tensorflow.keras.layers import Embedding, Dense, GRU, Dropout, Bidirectional, SpatialDropout1D, GlobalAveragePooling1D,GlobalMaxPooling1D\n",
        "from tensorflow.keras.utils import to_categorical\n",
        "from keras.layers import concatenate\n",
        "from sklearn import preprocessing"
      ],
      "metadata": {
        "id": "q6635Q-p_gar"
      },
      "execution_count": null,
      "outputs": []
    },
    {
      "cell_type": "code",
      "source": [
        "from mlxtend.plotting import plot_confusion_matrix\n",
        "from sklearn import metrics\n",
        "\n",
        "import matplotlib.pyplot as plt\n",
        "import keras.backend as K\n",
        "import keras.layers\n",
        "from keras import optimizers\n",
        "from tensorflow.keras.layers import Layer, InputSpec\n",
        "\n",
        "from keras.layers import Activation, Lambda\n",
        "from keras.layers import Conv1D, SpatialDropout1D\n",
        "from keras.layers import Convolution1D, Dense\n",
        "from keras.models import Model\n",
        "from typing import List, Tuple"
      ],
      "metadata": {
        "id": "XwGpmeA37GLw"
      },
      "execution_count": null,
      "outputs": []
    },
    {
      "cell_type": "markdown",
      "source": [
        "# Read Dataset"
      ],
      "metadata": {
        "id": "uU9I9YPw7N63"
      }
    },
    {
      "cell_type": "code",
      "source": [
        "main = pd.read_csv('/content/drive/MyDrive/Clickbait/Text_Dataset/Main_Dataset.csv')\n",
        "val = pd.read_csv('/content/drive/MyDrive/Clickbait/Text_Dataset/Validation_Dataset.csv')"
      ],
      "metadata": {
        "id": "hls6Ul7A5J15"
      },
      "execution_count": null,
      "outputs": []
    },
    {
      "cell_type": "code",
      "source": [
        "df= main.append(val, ignore_index=True)"
      ],
      "metadata": {
        "id": "7Pbh2JhZ5bcz"
      },
      "execution_count": null,
      "outputs": []
    },
    {
      "cell_type": "code",
      "source": [
        "df.head()"
      ],
      "metadata": {
        "colab": {
          "base_uri": "https://localhost:8080/",
          "height": 704
        },
        "id": "Pifixg705xJc",
        "outputId": "a40376fc-29a2-47c7-da85-23c3a0ea53d0"
      },
      "execution_count": null,
      "outputs": [
        {
          "output_type": "execute_result",
          "data": {
            "text/plain": [
              "                                postMedia  \\\n",
              "0  ['media/photo_858153570478305281.jpg']   \n",
              "1  ['media/photo_858137808657108992.jpg']   \n",
              "2  ['media/photo_858069152451354625.jpg']   \n",
              "3  ['media/photo_858033549995376641.jpg']   \n",
              "4  ['media/photo_857902230321725440.jpg']   \n",
              "\n",
              "                                            postText                  id  \\\n",
              "0  [\"Malls are dying, but it's hard to profit fro...  858153572571197440   \n",
              "1  ['The top 10 best selling comic books of all t...  858137811039465472   \n",
              "2  ['Players to know, QBs to watch and more 👀\\n\\n...  858070460814184448   \n",
              "3  ['Florida officials say no Zika virus has been...  858033553468252160   \n",
              "4  ['White House reporter @alivitali on her first...  857902233232527360   \n",
              "\n",
              "                                      targetCaptions  \\\n",
              "0                                                 []   \n",
              "1                                                 []   \n",
              "2                                 ['NFL Draft logo']   \n",
              "3  ['PHOTO: A mosquito is pictured on a persons a...   \n",
              "4  ['TODAY', 'Image: NBC News reporter Ali Vitali...   \n",
              "\n",
              "                                    targetParagraphs  \\\n",
              "0  ['Lisa Abramowicz is a Bloomberg Gadfly column...   \n",
              "1  ['More', 'By Brian Prowse-Gany', 'In celebrati...   \n",
              "2  ['The first round of the 2017 NFL draft was no...   \n",
              "3  ['With summer approaching, Florida health offi...   \n",
              "4  ['The most consistent thing about my life for ...   \n",
              "\n",
              "                                         targetTitle  \\\n",
              "0          This Big Short Threatens to Be a Big Bust   \n",
              "1  The top 10 best selling comic books of all tim...   \n",
              "2  B/R Presents: NFL1000 Guide to Day 2 of the 20...   \n",
              "3  No Zika detected in Florida mosquitoes so far ...   \n",
              "4     My 100 Days of Covering President Donald Trump   \n",
              "\n",
              "                    postTimestamp  \\\n",
              "0  Sat Apr 29 02:58:50 +0000 2017   \n",
              "1  Sat Apr 29 01:56:12 +0000 2017   \n",
              "2  Fri Apr 28 21:28:34 +0000 2017   \n",
              "3  Fri Apr 28 19:01:55 +0000 2017   \n",
              "4  Fri Apr 28 10:20:06 +0000 2017   \n",
              "\n",
              "                                      targetKeywords  \\\n",
              "0  Infrastructure,Debt,Real Estate,Fund Manager,W...   \n",
              "1                                                NaN   \n",
              "2                 NFL Draft, NFL, Preview Prediction   \n",
              "3  zika, florida, mosquitoes, health news, medica...   \n",
              "4                                                NaN   \n",
              "\n",
              "                                   targetDescription  \\\n",
              "0  The wager worked early on, but time is working...   \n",
              "1  In celebration of National Superhero Day, Yaho...   \n",
              "2  The first round of the 2017  NFL  draft was no...   \n",
              "3  With summer approaching, officials are hoping ...   \n",
              "4  For the past 100 days, my \"office\" has been th...   \n",
              "\n",
              "                                      truthJudgments  truthMean    truthClass  \\\n",
              "0  [0.33333333330000003, 0.0, 0.6666666666000001,...   0.333333  no-clickbait   \n",
              "1           [0.6666666666000001, 1.0, 1.0, 0.0, 1.0]   0.733333     clickbait   \n",
              "2  [1.0, 0.6666666666000001, 0.6666666666000001, ...   0.600000     clickbait   \n",
              "3                          [0.0, 0.0, 0.0, 0.0, 0.0]   0.000000  no-clickbait   \n",
              "4  [0.33333333330000003, 0.0, 0.6666666666000001,...   0.533333     clickbait   \n",
              "\n",
              "   truthMedian  truthMode  \n",
              "0     0.333333   0.333333  \n",
              "1     1.000000   1.000000  \n",
              "2     0.666667   0.666667  \n",
              "3     0.000000   0.000000  \n",
              "4     0.666667   0.666667  "
            ],
            "text/html": [
              "\n",
              "  <div id=\"df-f722b372-b777-4375-8bb9-50fd282796a2\">\n",
              "    <div class=\"colab-df-container\">\n",
              "      <div>\n",
              "<style scoped>\n",
              "    .dataframe tbody tr th:only-of-type {\n",
              "        vertical-align: middle;\n",
              "    }\n",
              "\n",
              "    .dataframe tbody tr th {\n",
              "        vertical-align: top;\n",
              "    }\n",
              "\n",
              "    .dataframe thead th {\n",
              "        text-align: right;\n",
              "    }\n",
              "</style>\n",
              "<table border=\"1\" class=\"dataframe\">\n",
              "  <thead>\n",
              "    <tr style=\"text-align: right;\">\n",
              "      <th></th>\n",
              "      <th>postMedia</th>\n",
              "      <th>postText</th>\n",
              "      <th>id</th>\n",
              "      <th>targetCaptions</th>\n",
              "      <th>targetParagraphs</th>\n",
              "      <th>targetTitle</th>\n",
              "      <th>postTimestamp</th>\n",
              "      <th>targetKeywords</th>\n",
              "      <th>targetDescription</th>\n",
              "      <th>truthJudgments</th>\n",
              "      <th>truthMean</th>\n",
              "      <th>truthClass</th>\n",
              "      <th>truthMedian</th>\n",
              "      <th>truthMode</th>\n",
              "    </tr>\n",
              "  </thead>\n",
              "  <tbody>\n",
              "    <tr>\n",
              "      <th>0</th>\n",
              "      <td>['media/photo_858153570478305281.jpg']</td>\n",
              "      <td>[\"Malls are dying, but it's hard to profit fro...</td>\n",
              "      <td>858153572571197440</td>\n",
              "      <td>[]</td>\n",
              "      <td>['Lisa Abramowicz is a Bloomberg Gadfly column...</td>\n",
              "      <td>This Big Short Threatens to Be a Big Bust</td>\n",
              "      <td>Sat Apr 29 02:58:50 +0000 2017</td>\n",
              "      <td>Infrastructure,Debt,Real Estate,Fund Manager,W...</td>\n",
              "      <td>The wager worked early on, but time is working...</td>\n",
              "      <td>[0.33333333330000003, 0.0, 0.6666666666000001,...</td>\n",
              "      <td>0.333333</td>\n",
              "      <td>no-clickbait</td>\n",
              "      <td>0.333333</td>\n",
              "      <td>0.333333</td>\n",
              "    </tr>\n",
              "    <tr>\n",
              "      <th>1</th>\n",
              "      <td>['media/photo_858137808657108992.jpg']</td>\n",
              "      <td>['The top 10 best selling comic books of all t...</td>\n",
              "      <td>858137811039465472</td>\n",
              "      <td>[]</td>\n",
              "      <td>['More', 'By Brian Prowse-Gany', 'In celebrati...</td>\n",
              "      <td>The top 10 best selling comic books of all tim...</td>\n",
              "      <td>Sat Apr 29 01:56:12 +0000 2017</td>\n",
              "      <td>NaN</td>\n",
              "      <td>In celebration of National Superhero Day, Yaho...</td>\n",
              "      <td>[0.6666666666000001, 1.0, 1.0, 0.0, 1.0]</td>\n",
              "      <td>0.733333</td>\n",
              "      <td>clickbait</td>\n",
              "      <td>1.000000</td>\n",
              "      <td>1.000000</td>\n",
              "    </tr>\n",
              "    <tr>\n",
              "      <th>2</th>\n",
              "      <td>['media/photo_858069152451354625.jpg']</td>\n",
              "      <td>['Players to know, QBs to watch and more 👀\\n\\n...</td>\n",
              "      <td>858070460814184448</td>\n",
              "      <td>['NFL Draft logo']</td>\n",
              "      <td>['The first round of the 2017 NFL draft was no...</td>\n",
              "      <td>B/R Presents: NFL1000 Guide to Day 2 of the 20...</td>\n",
              "      <td>Fri Apr 28 21:28:34 +0000 2017</td>\n",
              "      <td>NFL Draft, NFL, Preview Prediction</td>\n",
              "      <td>The first round of the 2017  NFL  draft was no...</td>\n",
              "      <td>[1.0, 0.6666666666000001, 0.6666666666000001, ...</td>\n",
              "      <td>0.600000</td>\n",
              "      <td>clickbait</td>\n",
              "      <td>0.666667</td>\n",
              "      <td>0.666667</td>\n",
              "    </tr>\n",
              "    <tr>\n",
              "      <th>3</th>\n",
              "      <td>['media/photo_858033549995376641.jpg']</td>\n",
              "      <td>['Florida officials say no Zika virus has been...</td>\n",
              "      <td>858033553468252160</td>\n",
              "      <td>['PHOTO: A mosquito is pictured on a persons a...</td>\n",
              "      <td>['With summer approaching, Florida health offi...</td>\n",
              "      <td>No Zika detected in Florida mosquitoes so far ...</td>\n",
              "      <td>Fri Apr 28 19:01:55 +0000 2017</td>\n",
              "      <td>zika, florida, mosquitoes, health news, medica...</td>\n",
              "      <td>With summer approaching, officials are hoping ...</td>\n",
              "      <td>[0.0, 0.0, 0.0, 0.0, 0.0]</td>\n",
              "      <td>0.000000</td>\n",
              "      <td>no-clickbait</td>\n",
              "      <td>0.000000</td>\n",
              "      <td>0.000000</td>\n",
              "    </tr>\n",
              "    <tr>\n",
              "      <th>4</th>\n",
              "      <td>['media/photo_857902230321725440.jpg']</td>\n",
              "      <td>['White House reporter @alivitali on her first...</td>\n",
              "      <td>857902233232527360</td>\n",
              "      <td>['TODAY', 'Image: NBC News reporter Ali Vitali...</td>\n",
              "      <td>['The most consistent thing about my life for ...</td>\n",
              "      <td>My 100 Days of Covering President Donald Trump</td>\n",
              "      <td>Fri Apr 28 10:20:06 +0000 2017</td>\n",
              "      <td>NaN</td>\n",
              "      <td>For the past 100 days, my \"office\" has been th...</td>\n",
              "      <td>[0.33333333330000003, 0.0, 0.6666666666000001,...</td>\n",
              "      <td>0.533333</td>\n",
              "      <td>clickbait</td>\n",
              "      <td>0.666667</td>\n",
              "      <td>0.666667</td>\n",
              "    </tr>\n",
              "  </tbody>\n",
              "</table>\n",
              "</div>\n",
              "      <button class=\"colab-df-convert\" onclick=\"convertToInteractive('df-f722b372-b777-4375-8bb9-50fd282796a2')\"\n",
              "              title=\"Convert this dataframe to an interactive table.\"\n",
              "              style=\"display:none;\">\n",
              "        \n",
              "  <svg xmlns=\"http://www.w3.org/2000/svg\" height=\"24px\"viewBox=\"0 0 24 24\"\n",
              "       width=\"24px\">\n",
              "    <path d=\"M0 0h24v24H0V0z\" fill=\"none\"/>\n",
              "    <path d=\"M18.56 5.44l.94 2.06.94-2.06 2.06-.94-2.06-.94-.94-2.06-.94 2.06-2.06.94zm-11 1L8.5 8.5l.94-2.06 2.06-.94-2.06-.94L8.5 2.5l-.94 2.06-2.06.94zm10 10l.94 2.06.94-2.06 2.06-.94-2.06-.94-.94-2.06-.94 2.06-2.06.94z\"/><path d=\"M17.41 7.96l-1.37-1.37c-.4-.4-.92-.59-1.43-.59-.52 0-1.04.2-1.43.59L10.3 9.45l-7.72 7.72c-.78.78-.78 2.05 0 2.83L4 21.41c.39.39.9.59 1.41.59.51 0 1.02-.2 1.41-.59l7.78-7.78 2.81-2.81c.8-.78.8-2.07 0-2.86zM5.41 20L4 18.59l7.72-7.72 1.47 1.35L5.41 20z\"/>\n",
              "  </svg>\n",
              "      </button>\n",
              "      \n",
              "  <style>\n",
              "    .colab-df-container {\n",
              "      display:flex;\n",
              "      flex-wrap:wrap;\n",
              "      gap: 12px;\n",
              "    }\n",
              "\n",
              "    .colab-df-convert {\n",
              "      background-color: #E8F0FE;\n",
              "      border: none;\n",
              "      border-radius: 50%;\n",
              "      cursor: pointer;\n",
              "      display: none;\n",
              "      fill: #1967D2;\n",
              "      height: 32px;\n",
              "      padding: 0 0 0 0;\n",
              "      width: 32px;\n",
              "    }\n",
              "\n",
              "    .colab-df-convert:hover {\n",
              "      background-color: #E2EBFA;\n",
              "      box-shadow: 0px 1px 2px rgba(60, 64, 67, 0.3), 0px 1px 3px 1px rgba(60, 64, 67, 0.15);\n",
              "      fill: #174EA6;\n",
              "    }\n",
              "\n",
              "    [theme=dark] .colab-df-convert {\n",
              "      background-color: #3B4455;\n",
              "      fill: #D2E3FC;\n",
              "    }\n",
              "\n",
              "    [theme=dark] .colab-df-convert:hover {\n",
              "      background-color: #434B5C;\n",
              "      box-shadow: 0px 1px 3px 1px rgba(0, 0, 0, 0.15);\n",
              "      filter: drop-shadow(0px 1px 2px rgba(0, 0, 0, 0.3));\n",
              "      fill: #FFFFFF;\n",
              "    }\n",
              "  </style>\n",
              "\n",
              "      <script>\n",
              "        const buttonEl =\n",
              "          document.querySelector('#df-f722b372-b777-4375-8bb9-50fd282796a2 button.colab-df-convert');\n",
              "        buttonEl.style.display =\n",
              "          google.colab.kernel.accessAllowed ? 'block' : 'none';\n",
              "\n",
              "        async function convertToInteractive(key) {\n",
              "          const element = document.querySelector('#df-f722b372-b777-4375-8bb9-50fd282796a2');\n",
              "          const dataTable =\n",
              "            await google.colab.kernel.invokeFunction('convertToInteractive',\n",
              "                                                     [key], {});\n",
              "          if (!dataTable) return;\n",
              "\n",
              "          const docLinkHtml = 'Like what you see? Visit the ' +\n",
              "            '<a target=\"_blank\" href=https://colab.research.google.com/notebooks/data_table.ipynb>data table notebook</a>'\n",
              "            + ' to learn more about interactive tables.';\n",
              "          element.innerHTML = '';\n",
              "          dataTable['output_type'] = 'display_data';\n",
              "          await google.colab.output.renderOutput(dataTable, element);\n",
              "          const docLink = document.createElement('div');\n",
              "          docLink.innerHTML = docLinkHtml;\n",
              "          element.appendChild(docLink);\n",
              "        }\n",
              "      </script>\n",
              "    </div>\n",
              "  </div>\n",
              "  "
            ]
          },
          "metadata": {},
          "execution_count": 75
        }
      ]
    },
    {
      "cell_type": "code",
      "source": [
        "text = df['targetTitle'].values         # Input Feature (Title of media posts)\n",
        "labels = df['truthClass'].values        # Target Class/label"
      ],
      "metadata": {
        "id": "21kHoWF150m5"
      },
      "execution_count": null,
      "outputs": []
    },
    {
      "cell_type": "markdown",
      "source": [
        "# Train test split"
      ],
      "metadata": {
        "id": "4dBdmzLy7eO5"
      }
    },
    {
      "cell_type": "code",
      "source": [
        "from sklearn.model_selection import train_test_split\n",
        "X_train,X_test,y_train,y_test= train_test_split(text, labels,test_size=0.33, random_state=0)"
      ],
      "metadata": {
        "id": "nr-cM2rQ6at5"
      },
      "execution_count": null,
      "outputs": []
    },
    {
      "cell_type": "code",
      "source": [
        "X_train"
      ],
      "metadata": {
        "colab": {
          "base_uri": "https://localhost:8080/"
        },
        "id": "LYE396Fty6cv",
        "outputId": "2e4fe7fd-492b-48eb-fbdd-da1e8017d2ec"
      },
      "execution_count": null,
      "outputs": [
        {
          "output_type": "execute_result",
          "data": {
            "text/plain": [
              "array(['5 travel credit card sign-up bonuses to fund your summer trip',\n",
              "       '17 Limited-Edition Beauty Products You Need To Buy\\xa0ASAP',\n",
              "       'After Pre-Election Surge, Apprehensions at Southern Border Hit Five-Year Low',\n",
              "       ...,\n",
              "       '4 Ways Entrepreneurs Can Use Technology To Stay Fit On The Road',\n",
              "       \"Beliebers Can't Get Over Justin Bieber's Four Grammy Nominations: See Their Tweets\",\n",
              "       \"Parents Welcome New Year's Twins Born Minutes Apart, in Different Years \"],\n",
              "      dtype=object)"
            ]
          },
          "metadata": {},
          "execution_count": 10
        }
      ]
    },
    {
      "cell_type": "markdown",
      "source": [
        "# Word2Vec Embedding"
      ],
      "metadata": {
        "id": "BSXNgIl6ByFl"
      }
    },
    {
      "cell_type": "code",
      "source": [
        "# Train the word2vec model\n",
        "w2v_model = gensim.models.Word2Vec(X_train,\n",
        "                                   vector_size=100,\n",
        "                                   window=5,\n",
        "                                   min_count=2)"
      ],
      "metadata": {
        "colab": {
          "base_uri": "https://localhost:8080/"
        },
        "id": "DmtDHFQTy5rv",
        "outputId": "1264e394-ef84-42b1-e0b8-d31153746b1d"
      },
      "execution_count": null,
      "outputs": [
        {
          "output_type": "stream",
          "name": "stderr",
          "text": [
            "WARNING:gensim.models.word2vec:Each 'sentences' item should be a list of words (usually unicode strings). First item here is instead plain <class 'str'>.\n"
          ]
        }
      ]
    },
    {
      "cell_type": "code",
      "source": [
        "words = set(w2v_model.wv.index_to_key )\n",
        "X_train_vect = np.array([np.array([w2v_model.wv[i] for i in ls if i in words])\n",
        "                         for ls in X_train])\n",
        "X_test_vect = np.array([np.array([w2v_model.wv[i] for i in ls if i in words])\n",
        "                         for ls in X_test])"
      ],
      "metadata": {
        "colab": {
          "base_uri": "https://localhost:8080/"
        },
        "id": "QmvBDjyIzLy7",
        "outputId": "69ad4725-7023-4475-d8e6-486957e7c1ca"
      },
      "execution_count": null,
      "outputs": [
        {
          "output_type": "stream",
          "name": "stderr",
          "text": [
            "/usr/local/lib/python3.7/dist-packages/ipykernel_launcher.py:3: VisibleDeprecationWarning: Creating an ndarray from ragged nested sequences (which is a list-or-tuple of lists-or-tuples-or ndarrays with different lengths or shapes) is deprecated. If you meant to do this, you must specify 'dtype=object' when creating the ndarray.\n",
            "  This is separate from the ipykernel package so we can avoid doing imports until\n",
            "/usr/local/lib/python3.7/dist-packages/ipykernel_launcher.py:5: VisibleDeprecationWarning: Creating an ndarray from ragged nested sequences (which is a list-or-tuple of lists-or-tuples-or ndarrays with different lengths or shapes) is deprecated. If you meant to do this, you must specify 'dtype=object' when creating the ndarray.\n",
            "  \"\"\"\n"
          ]
        }
      ]
    },
    {
      "cell_type": "code",
      "source": [
        "# Compute sentence vectors by averaging the word vectors for the words contained in the sentence\n",
        "X_train_vect_avg = []\n",
        "for v in X_train_vect:\n",
        "    if v.size:\n",
        "        X_train_vect_avg.append(v.mean(axis=0))\n",
        "    else:\n",
        "        X_train_vect_avg.append(np.zeros(100, dtype=float))\n",
        "        \n",
        "X_test_vect_avg = []\n",
        "for v in X_test_vect:\n",
        "    if v.size:\n",
        "        X_test_vect_avg.append(v.mean(axis=0))\n",
        "    else:\n",
        "        X_test_vect_avg.append(np.zeros(100, dtype=float))"
      ],
      "metadata": {
        "id": "ME2eXSx60rdA"
      },
      "execution_count": null,
      "outputs": []
    },
    {
      "cell_type": "markdown",
      "source": [
        "# Encoding Target Variable"
      ],
      "metadata": {
        "id": "IKOWCK3i-iwU"
      }
    },
    {
      "cell_type": "code",
      "source": [
        "label_encoder = preprocessing.LabelEncoder()\n",
        "  \n",
        "# Encode labels in column 'species'.\n",
        "y_train_en= label_encoder.fit_transform(y_train)\n",
        "\n",
        "y_test_en = label_encoder.transform(y_test)\n",
        "\n",
        "target_length = y_train_en.shape"
      ],
      "metadata": {
        "id": "xo6mp6mA6NlV"
      },
      "execution_count": null,
      "outputs": []
    },
    {
      "cell_type": "code",
      "source": [
        "X_train.shape"
      ],
      "metadata": {
        "colab": {
          "base_uri": "https://localhost:8080/"
        },
        "id": "a-3b9y657xqd",
        "outputId": "e3c404c5-44c2-4f99-a700-aa2440e8705b"
      },
      "execution_count": null,
      "outputs": [
        {
          "output_type": "execute_result",
          "data": {
            "text/plain": [
              "(14206,)"
            ]
          },
          "metadata": {},
          "execution_count": 92
        }
      ]
    },
    {
      "cell_type": "code",
      "source": [
        "X_train_vect_avg=np.array(X_train_vect_avg)\n",
        "X_train_vect_avg = X_train_vect_avg[:, np.newaxis]"
      ],
      "metadata": {
        "id": "_KQB4DbDIQpo"
      },
      "execution_count": null,
      "outputs": []
    },
    {
      "cell_type": "code",
      "source": [
        "X_train_vect_avg.shape"
      ],
      "metadata": {
        "colab": {
          "base_uri": "https://localhost:8080/"
        },
        "id": "h0HC_8jMIo_v",
        "outputId": "e4c29093-a9cd-4713-c743-6bb35c0dad2b"
      },
      "execution_count": null,
      "outputs": [
        {
          "output_type": "execute_result",
          "data": {
            "text/plain": [
              "(14206, 1, 100)"
            ]
          },
          "metadata": {},
          "execution_count": 96
        }
      ]
    },
    {
      "cell_type": "markdown",
      "source": [
        "# Defining TCN Layer"
      ],
      "metadata": {
        "id": "PeEq3qZb1WLT"
      }
    },
    {
      "cell_type": "code",
      "source": [
        "def channel_normalization(x):\n",
        "    # type: (Layer) -> Layer\n",
        "    \"\"\" Normalize a layer to the maximum activation\n",
        "    This keeps a layers values between zero and one.\n",
        "    It helps with relu's unbounded activation\n",
        "    Args:\n",
        "        x: The layer to normalize\n",
        "    Returns:\n",
        "        A maximal normalized layer\n",
        "    \"\"\"\n",
        "    max_values = K.max(K.abs(x), 2, keepdims=True) + 1e-5\n",
        "    out = x / max_values\n",
        "    return out\n",
        "\n",
        "\n",
        "def wave_net_activation(x):\n",
        "    # type: (Layer) -> Layer\n",
        "    \"\"\"This method defines the activation used for WaveNet\n",
        "    described in https://deepmind.com/blog/wavenet-generative-model-raw-audio/\n",
        "    Args:\n",
        "        x: The layer we want to apply the activation to\n",
        "    Returns:\n",
        "        A new layer with the wavenet activation applied\n",
        "    \"\"\"\n",
        "    tanh_out = Activation('tanh')(x)\n",
        "    sigm_out = Activation('sigmoid')(x)\n",
        "    return keras.layers.multiply([tanh_out, sigm_out])\n",
        "\n",
        "\n",
        "def residual_block(x, s, i, activation, nb_filters, kernel_size, padding, dropout_rate=0, name=''):\n",
        "    # type: (Layer, int, int, str, int, int, float, str) -> Tuple[Layer, Layer]\n",
        "    \"\"\"Defines the residual block for the WaveNet TCN\n",
        "    Args:\n",
        "        x: The previous layer in the model\n",
        "        s: The stack index i.e. which stack in the overall TCN\n",
        "        i: The dilation power of 2 we are using for this residual block\n",
        "        activation: The name of the type of activation to use\n",
        "        nb_filters: The number of convolutional filters to use in this block\n",
        "        kernel_size: The size of the convolutional kernel\n",
        "        padding: The padding used in the convolutional layers, 'same' or 'causal'.\n",
        "        dropout_rate: Float between 0 and 1. Fraction of the input units to drop.\n",
        "        name: Name of the model. Useful when having multiple TCN.\n",
        "    Returns:\n",
        "        A tuple where the first element is the residual model layer, and the second\n",
        "        is the skip connection.\n",
        "    \"\"\"\n",
        "\n",
        "    original_x = x\n",
        "    conv = Conv1D(filters=nb_filters, kernel_size=kernel_size,\n",
        "                  dilation_rate=i, padding=padding,\n",
        "                  name=name + '_dilated_conv_%d_tanh_s%d' % (i, s))(x)\n",
        "    if activation == 'norm_relu':\n",
        "        x = Activation('relu')(conv)\n",
        "        x = Lambda(channel_normalization)(x)\n",
        "    elif activation == 'wavenet':\n",
        "        x = wave_net_activation(conv)\n",
        "    else:\n",
        "        x = Activation(activation)(conv)\n",
        "\n",
        "    x = SpatialDropout1D(dropout_rate, name=name + '_spatial_dropout1d_%d_s%d_%f' % (i, s, dropout_rate))(x)\n",
        "\n",
        "    # 1x1 conv.\n",
        "    x = Convolution1D(nb_filters, 1, padding='same')(x)\n",
        "    res_x = keras.layers.add([original_x, x])\n",
        "    return res_x, x\n",
        "\n",
        "\n",
        "def process_dilations(dilations):\n",
        "    def is_power_of_two(num):\n",
        "        return num != 0 and ((num & (num - 1)) == 0)\n",
        "\n",
        "    if all([is_power_of_two(i) for i in dilations]):\n",
        "        return dilations\n",
        "\n",
        "    else:\n",
        "        new_dilations = [2 ** i for i in dilations]\n",
        "        # print(f'Updated dilations from {dilations} to {new_dilations} because of backwards compatibility.')\n",
        "        return new_dilations\n",
        "\n",
        "\n",
        "class TCN:\n",
        "    \"\"\"Creates a TCN layer.\n",
        "        Args:\n",
        "            input_layer: A tensor of shape (batch_size, timesteps, input_dim).\n",
        "            nb_filters: The number of filters to use in the convolutional layers.\n",
        "            kernel_size: The size of the kernel to use in each convolutional layer.\n",
        "            dilations: The list of the dilations. Example is: [1, 2, 4, 8, 16, 32, 64].\n",
        "            nb_stacks : The number of stacks of residual blocks to use.\n",
        "            activation: The activations to use (norm_relu, wavenet, relu...).\n",
        "            padding: The padding to use in the convolutional layers, 'causal' or 'same'.\n",
        "            use_skip_connections: Boolean. If we want to add skip connections from input to each residual block.\n",
        "            return_sequences: Boolean. Whether to return the last output in the output sequence, or the full sequence.\n",
        "            dropout_rate: Float between 0 and 1. Fraction of the input units to drop.\n",
        "            name: Name of the model. Useful when having multiple TCN.\n",
        "        Returns:\n",
        "            A TCN layer.\n",
        "        \"\"\"\n",
        "\n",
        "    def __init__(self,\n",
        "                 nb_filters=64,\n",
        "                 kernel_size=2,\n",
        "                 nb_stacks=1,\n",
        "                 dilations=None,\n",
        "                 activation='norm_relu',\n",
        "                 padding='causal',\n",
        "                 use_skip_connections=True,\n",
        "                 dropout_rate=0.0,\n",
        "                 return_sequences=True,\n",
        "                 name='tcn'):\n",
        "        self.name = name\n",
        "        self.return_sequences = return_sequences\n",
        "        self.dropout_rate = dropout_rate\n",
        "        self.use_skip_connections = use_skip_connections\n",
        "        self.activation = activation\n",
        "        self.dilations = dilations\n",
        "        self.nb_stacks = nb_stacks\n",
        "        self.kernel_size = kernel_size\n",
        "        self.nb_filters = nb_filters\n",
        "        self.padding = padding\n",
        "\n",
        "        # backwards incompatibility warning.\n",
        "        # o = tcn.TCN(i, return_sequences=False) =>\n",
        "        # o = tcn.TCN(return_sequences=False)(i)\n",
        "\n",
        "        if padding != 'causal' and padding != 'same':\n",
        "            raise ValueError(\"Only 'causal' or 'same' paddings are compatible for this layer.\")\n",
        "\n",
        "        if not isinstance(nb_filters, int):\n",
        "            print('An interface change occurred after the version 2.1.2.')\n",
        "            print('Before: tcn.TCN(i, return_sequences=False, ...)')\n",
        "            print('Now should be: tcn.TCN(return_sequences=False, ...)(i)')\n",
        "            print('Second solution is to pip install keras-tcn==2.1.2 to downgrade.')\n",
        "            raise Exception()\n",
        "\n",
        "    def __call__(self, inputs):\n",
        "        if self.dilations is None:\n",
        "            self.dilations = [1, 2, 4, 8, 16, 32]\n",
        "        x = inputs\n",
        "        x = Convolution1D(self.nb_filters, 1, padding=self.padding, name=self.name + '_initial_conv')(x)\n",
        "        skip_connections = []\n",
        "        for s in range(self.nb_stacks):\n",
        "            for i in self.dilations:\n",
        "                x, skip_out = residual_block(x, s, i, self.activation, self.nb_filters,\n",
        "                                             self.kernel_size, self.padding, self.dropout_rate, name=self.name)\n",
        "                skip_connections.append(skip_out)\n",
        "        if self.use_skip_connections:\n",
        "            x = keras.layers.add(skip_connections)\n",
        "        x = Activation('relu')(x)\n",
        "\n",
        "        if not self.return_sequences:\n",
        "            output_slice_index = -1\n",
        "            x = Lambda(lambda tt: tt[:, output_slice_index, :])(x)\n",
        "        return x"
      ],
      "metadata": {
        "id": "dpywjkMc1Xi1"
      },
      "execution_count": null,
      "outputs": []
    },
    {
      "cell_type": "markdown",
      "source": [
        "# TCN Model"
      ],
      "metadata": {
        "id": "Af6m6jGfBm6S"
      }
    },
    {
      "cell_type": "code",
      "source": [
        "inp = Input(shape=X_train_vect_avg[0].shape)\n",
        "#model.add(Dense(100, activation='relu',input_shape=X_train_vect_avg[0].shape))\n",
        "#x = Embedding(max_features, embed_size, weights=[embedding_matrix], trainable=False)(inp)\n",
        "x = SpatialDropout1D(0.1)(inp)\n",
        "x = TCN(128,dilations = [1, 2, 4], return_sequences=True, activation = 'wavenet',name = 'tnc1')(x)\n",
        "x = TCN(64,dilations = [1, 2, 4], return_sequences=True, activation = 'wavenet',name = 'tnc2')(x)\n",
        "avg_pool = GlobalAveragePooling1D()(x)\n",
        "max_pool = GlobalMaxPooling1D()(x)\n",
        "\n",
        "conc = concatenate([avg_pool, max_pool])\n",
        "conc = Dense(16, activation=\"relu\")(conc)\n",
        "conc = Dropout(0.1)(conc)\n",
        "outp = Dense(1, activation=\"sigmoid\")(conc)    \n",
        "\n",
        "model = Model(inputs=inp, outputs=outp)\n",
        "model.compile(loss='binary_crossentropy', optimizer='adam', metrics=['accuracy'])"
      ],
      "metadata": {
        "id": "d8rdT4yA18DH"
      },
      "execution_count": null,
      "outputs": []
    },
    {
      "cell_type": "code",
      "source": [
        "model.summary()"
      ],
      "metadata": {
        "colab": {
          "base_uri": "https://localhost:8080/"
        },
        "id": "vtWl-Or63QvF",
        "outputId": "3de6761e-a95c-4a7b-db5d-18e1325982bf"
      },
      "execution_count": null,
      "outputs": [
        {
          "output_type": "stream",
          "name": "stdout",
          "text": [
            "Model: \"model_6\"\n",
            "__________________________________________________________________________________________________\n",
            " Layer (type)                   Output Shape         Param #     Connected to                     \n",
            "==================================================================================================\n",
            " input_12 (InputLayer)          [(None, 1, 100)]     0           []                               \n",
            "                                                                                                  \n",
            " spatial_dropout1d_4 (SpatialDr  (None, 1, 100)      0           ['input_12[0][0]']               \n",
            " opout1D)                                                                                         \n",
            "                                                                                                  \n",
            " tnc1_initial_conv (Conv1D)     (None, 1, 128)       12928       ['spatial_dropout1d_4[0][0]']    \n",
            "                                                                                                  \n",
            " tnc1_dilated_conv_1_tanh_s0 (C  (None, 1, 128)      32896       ['tnc1_initial_conv[0][0]']      \n",
            " onv1D)                                                                                           \n",
            "                                                                                                  \n",
            " activation_28 (Activation)     (None, 1, 128)       0           ['tnc1_dilated_conv_1_tanh_s0[0][\n",
            "                                                                 0]']                             \n",
            "                                                                                                  \n",
            " activation_29 (Activation)     (None, 1, 128)       0           ['tnc1_dilated_conv_1_tanh_s0[0][\n",
            "                                                                 0]']                             \n",
            "                                                                                                  \n",
            " multiply_12 (Multiply)         (None, 1, 128)       0           ['activation_28[0][0]',          \n",
            "                                                                  'activation_29[0][0]']          \n",
            "                                                                                                  \n",
            " tnc1_spatial_dropout1d_1_s0_0.  (None, 1, 128)      0           ['multiply_12[0][0]']            \n",
            " 000000 (SpatialDropout1D)                                                                        \n",
            "                                                                                                  \n",
            " conv1d_12 (Conv1D)             (None, 1, 128)       16512       ['tnc1_spatial_dropout1d_1_s0_0.0\n",
            "                                                                 00000[0][0]']                    \n",
            "                                                                                                  \n",
            " add_16 (Add)                   (None, 1, 128)       0           ['tnc1_initial_conv[0][0]',      \n",
            "                                                                  'conv1d_12[0][0]']              \n",
            "                                                                                                  \n",
            " tnc1_dilated_conv_2_tanh_s0 (C  (None, 1, 128)      32896       ['add_16[0][0]']                 \n",
            " onv1D)                                                                                           \n",
            "                                                                                                  \n",
            " activation_30 (Activation)     (None, 1, 128)       0           ['tnc1_dilated_conv_2_tanh_s0[0][\n",
            "                                                                 0]']                             \n",
            "                                                                                                  \n",
            " activation_31 (Activation)     (None, 1, 128)       0           ['tnc1_dilated_conv_2_tanh_s0[0][\n",
            "                                                                 0]']                             \n",
            "                                                                                                  \n",
            " multiply_13 (Multiply)         (None, 1, 128)       0           ['activation_30[0][0]',          \n",
            "                                                                  'activation_31[0][0]']          \n",
            "                                                                                                  \n",
            " tnc1_spatial_dropout1d_2_s0_0.  (None, 1, 128)      0           ['multiply_13[0][0]']            \n",
            " 000000 (SpatialDropout1D)                                                                        \n",
            "                                                                                                  \n",
            " conv1d_13 (Conv1D)             (None, 1, 128)       16512       ['tnc1_spatial_dropout1d_2_s0_0.0\n",
            "                                                                 00000[0][0]']                    \n",
            "                                                                                                  \n",
            " add_17 (Add)                   (None, 1, 128)       0           ['add_16[0][0]',                 \n",
            "                                                                  'conv1d_13[0][0]']              \n",
            "                                                                                                  \n",
            " tnc1_dilated_conv_4_tanh_s0 (C  (None, 1, 128)      32896       ['add_17[0][0]']                 \n",
            " onv1D)                                                                                           \n",
            "                                                                                                  \n",
            " activation_32 (Activation)     (None, 1, 128)       0           ['tnc1_dilated_conv_4_tanh_s0[0][\n",
            "                                                                 0]']                             \n",
            "                                                                                                  \n",
            " activation_33 (Activation)     (None, 1, 128)       0           ['tnc1_dilated_conv_4_tanh_s0[0][\n",
            "                                                                 0]']                             \n",
            "                                                                                                  \n",
            " multiply_14 (Multiply)         (None, 1, 128)       0           ['activation_32[0][0]',          \n",
            "                                                                  'activation_33[0][0]']          \n",
            "                                                                                                  \n",
            " tnc1_spatial_dropout1d_4_s0_0.  (None, 1, 128)      0           ['multiply_14[0][0]']            \n",
            " 000000 (SpatialDropout1D)                                                                        \n",
            "                                                                                                  \n",
            " conv1d_14 (Conv1D)             (None, 1, 128)       16512       ['tnc1_spatial_dropout1d_4_s0_0.0\n",
            "                                                                 00000[0][0]']                    \n",
            "                                                                                                  \n",
            " add_19 (Add)                   (None, 1, 128)       0           ['conv1d_12[0][0]',              \n",
            "                                                                  'conv1d_13[0][0]',              \n",
            "                                                                  'conv1d_14[0][0]']              \n",
            "                                                                                                  \n",
            " activation_34 (Activation)     (None, 1, 128)       0           ['add_19[0][0]']                 \n",
            "                                                                                                  \n",
            " tnc2_initial_conv (Conv1D)     (None, 1, 64)        8256        ['activation_34[0][0]']          \n",
            "                                                                                                  \n",
            " tnc2_dilated_conv_1_tanh_s0 (C  (None, 1, 64)       8256        ['tnc2_initial_conv[0][0]']      \n",
            " onv1D)                                                                                           \n",
            "                                                                                                  \n",
            " activation_35 (Activation)     (None, 1, 64)        0           ['tnc2_dilated_conv_1_tanh_s0[0][\n",
            "                                                                 0]']                             \n",
            "                                                                                                  \n",
            " activation_36 (Activation)     (None, 1, 64)        0           ['tnc2_dilated_conv_1_tanh_s0[0][\n",
            "                                                                 0]']                             \n",
            "                                                                                                  \n",
            " multiply_15 (Multiply)         (None, 1, 64)        0           ['activation_35[0][0]',          \n",
            "                                                                  'activation_36[0][0]']          \n",
            "                                                                                                  \n",
            " tnc2_spatial_dropout1d_1_s0_0.  (None, 1, 64)       0           ['multiply_15[0][0]']            \n",
            " 000000 (SpatialDropout1D)                                                                        \n",
            "                                                                                                  \n",
            " conv1d_15 (Conv1D)             (None, 1, 64)        4160        ['tnc2_spatial_dropout1d_1_s0_0.0\n",
            "                                                                 00000[0][0]']                    \n",
            "                                                                                                  \n",
            " add_20 (Add)                   (None, 1, 64)        0           ['tnc2_initial_conv[0][0]',      \n",
            "                                                                  'conv1d_15[0][0]']              \n",
            "                                                                                                  \n",
            " tnc2_dilated_conv_2_tanh_s0 (C  (None, 1, 64)       8256        ['add_20[0][0]']                 \n",
            " onv1D)                                                                                           \n",
            "                                                                                                  \n",
            " activation_37 (Activation)     (None, 1, 64)        0           ['tnc2_dilated_conv_2_tanh_s0[0][\n",
            "                                                                 0]']                             \n",
            "                                                                                                  \n",
            " activation_38 (Activation)     (None, 1, 64)        0           ['tnc2_dilated_conv_2_tanh_s0[0][\n",
            "                                                                 0]']                             \n",
            "                                                                                                  \n",
            " multiply_16 (Multiply)         (None, 1, 64)        0           ['activation_37[0][0]',          \n",
            "                                                                  'activation_38[0][0]']          \n",
            "                                                                                                  \n",
            " tnc2_spatial_dropout1d_2_s0_0.  (None, 1, 64)       0           ['multiply_16[0][0]']            \n",
            " 000000 (SpatialDropout1D)                                                                        \n",
            "                                                                                                  \n",
            " conv1d_16 (Conv1D)             (None, 1, 64)        4160        ['tnc2_spatial_dropout1d_2_s0_0.0\n",
            "                                                                 00000[0][0]']                    \n",
            "                                                                                                  \n",
            " add_21 (Add)                   (None, 1, 64)        0           ['add_20[0][0]',                 \n",
            "                                                                  'conv1d_16[0][0]']              \n",
            "                                                                                                  \n",
            " tnc2_dilated_conv_4_tanh_s0 (C  (None, 1, 64)       8256        ['add_21[0][0]']                 \n",
            " onv1D)                                                                                           \n",
            "                                                                                                  \n",
            " activation_39 (Activation)     (None, 1, 64)        0           ['tnc2_dilated_conv_4_tanh_s0[0][\n",
            "                                                                 0]']                             \n",
            "                                                                                                  \n",
            " activation_40 (Activation)     (None, 1, 64)        0           ['tnc2_dilated_conv_4_tanh_s0[0][\n",
            "                                                                 0]']                             \n",
            "                                                                                                  \n",
            " multiply_17 (Multiply)         (None, 1, 64)        0           ['activation_39[0][0]',          \n",
            "                                                                  'activation_40[0][0]']          \n",
            "                                                                                                  \n",
            " tnc2_spatial_dropout1d_4_s0_0.  (None, 1, 64)       0           ['multiply_17[0][0]']            \n",
            " 000000 (SpatialDropout1D)                                                                        \n",
            "                                                                                                  \n",
            " conv1d_17 (Conv1D)             (None, 1, 64)        4160        ['tnc2_spatial_dropout1d_4_s0_0.0\n",
            "                                                                 00000[0][0]']                    \n",
            "                                                                                                  \n",
            " add_23 (Add)                   (None, 1, 64)        0           ['conv1d_15[0][0]',              \n",
            "                                                                  'conv1d_16[0][0]',              \n",
            "                                                                  'conv1d_17[0][0]']              \n",
            "                                                                                                  \n",
            " activation_41 (Activation)     (None, 1, 64)        0           ['add_23[0][0]']                 \n",
            "                                                                                                  \n",
            " global_average_pooling1d_2 (Gl  (None, 64)          0           ['activation_41[0][0]']          \n",
            " obalAveragePooling1D)                                                                            \n",
            "                                                                                                  \n",
            " global_max_pooling1d_2 (Global  (None, 64)          0           ['activation_41[0][0]']          \n",
            " MaxPooling1D)                                                                                    \n",
            "                                                                                                  \n",
            " concatenate_1 (Concatenate)    (None, 128)          0           ['global_average_pooling1d_2[0][0\n",
            "                                                                 ]',                              \n",
            "                                                                  'global_max_pooling1d_2[0][0]'] \n",
            "                                                                                                  \n",
            " dense_9 (Dense)                (None, 16)           2064        ['concatenate_1[0][0]']          \n",
            "                                                                                                  \n",
            " dropout_1 (Dropout)            (None, 16)           0           ['dense_9[0][0]']                \n",
            "                                                                                                  \n",
            " dense_10 (Dense)               (None, 1)            17          ['dropout_1[0][0]']              \n",
            "                                                                                                  \n",
            "==================================================================================================\n",
            "Total params: 208,737\n",
            "Trainable params: 208,737\n",
            "Non-trainable params: 0\n",
            "__________________________________________________________________________________________________\n"
          ]
        }
      ]
    },
    {
      "cell_type": "code",
      "source": [
        "callback = tf.keras.callbacks.EarlyStopping(monitor='val_loss', patience=1)\n",
        "\n",
        "history = model.fit(X_train_vect_avg, y_train_en, epochs=5, \n",
        "                    validation_split=0.3, \n",
        "                    callbacks=[callback])"
      ],
      "metadata": {
        "colab": {
          "base_uri": "https://localhost:8080/"
        },
        "id": "6VFnt2b0BAsY",
        "outputId": "ef891216-29ac-4757-ce1d-5107fb0fcdac"
      },
      "execution_count": null,
      "outputs": [
        {
          "output_type": "stream",
          "name": "stdout",
          "text": [
            "Epoch 1/5\n",
            "311/311 [==============================] - 7s 15ms/step - loss: 0.5031 - accuracy: 0.7872 - val_loss: 0.5180 - val_accuracy: 0.7766\n",
            "Epoch 2/5\n",
            "311/311 [==============================] - 6s 19ms/step - loss: 0.4914 - accuracy: 0.7910 - val_loss: 0.4918 - val_accuracy: 0.7759\n",
            "Epoch 3/5\n",
            "311/311 [==============================] - 4s 13ms/step - loss: 0.4907 - accuracy: 0.7905 - val_loss: 0.4867 - val_accuracy: 0.7825\n",
            "Epoch 4/5\n",
            "311/311 [==============================] - 4s 14ms/step - loss: 0.4856 - accuracy: 0.7918 - val_loss: 0.4882 - val_accuracy: 0.7865\n"
          ]
        }
      ]
    },
    {
      "cell_type": "markdown",
      "source": [
        "# Testing and Prediction"
      ],
      "metadata": {
        "id": "X9q76Qe0JyOA"
      }
    },
    {
      "cell_type": "code",
      "source": [
        "X_test_vect_avg=np.array(X_test_vect_avg)\n",
        "X_test_vect_avg = X_test_vect_avg[:, np.newaxis]"
      ],
      "metadata": {
        "id": "RWHwapQdI8e3"
      },
      "execution_count": null,
      "outputs": []
    },
    {
      "cell_type": "code",
      "source": [
        "# Use the trained model to make predictions on the test data\n",
        "y_pred = model.predict(X_test_vect_avg)"
      ],
      "metadata": {
        "id": "oanQwHN52lBY",
        "colab": {
          "base_uri": "https://localhost:8080/"
        },
        "outputId": "3b81e504-8562-42ba-d409-72ea819d1f50"
      },
      "execution_count": null,
      "outputs": [
        {
          "output_type": "stream",
          "name": "stdout",
          "text": [
            "219/219 [==============================] - 1s 4ms/step\n"
          ]
        }
      ]
    },
    {
      "cell_type": "code",
      "source": [
        "y_pred"
      ],
      "metadata": {
        "id": "TBQQvSabB5j3",
        "colab": {
          "base_uri": "https://localhost:8080/"
        },
        "outputId": "50c16c53-eb24-4efa-d5fc-b652d6f59539"
      },
      "execution_count": null,
      "outputs": [
        {
          "output_type": "execute_result",
          "data": {
            "text/plain": [
              "array([[0.8588047 ],\n",
              "       [0.79877514],\n",
              "       [0.8529892 ],\n",
              "       ...,\n",
              "       [0.4197152 ],\n",
              "       [0.74971104],\n",
              "       [0.77022314]], dtype=float32)"
            ]
          },
          "metadata": {},
          "execution_count": 107
        }
      ]
    },
    {
      "cell_type": "code",
      "source": [
        "y_pred = np.where(y_pred > 0.5, 1, 0)\n",
        "y_pred"
      ],
      "metadata": {
        "colab": {
          "base_uri": "https://localhost:8080/"
        },
        "id": "f8yStPrVBquf",
        "outputId": "66589af1-2590-4f09-a894-23e2361029a1"
      },
      "execution_count": null,
      "outputs": [
        {
          "output_type": "execute_result",
          "data": {
            "text/plain": [
              "array([1, 1, 1, ..., 0, 1, 1])"
            ]
          },
          "metadata": {},
          "execution_count": 109
        }
      ]
    },
    {
      "cell_type": "markdown",
      "source": [
        "# Metrics"
      ],
      "metadata": {
        "id": "jFJV-klaJ43D"
      }
    },
    {
      "cell_type": "code",
      "source": [
        "from sklearn.metrics import precision_score, recall_score\n",
        "precision = precision_score(y_test_en, y_pred)\n",
        "recall = recall_score(y_test_en, y_pred)\n",
        "print('Precision: {} / Recall: {} / Accuracy: {}'.format(\n",
        "    round(precision, 3), round(recall, 3), round((y_pred==y_test_en).sum()/len(y_pred), 3)))"
      ],
      "metadata": {
        "colab": {
          "base_uri": "https://localhost:8080/"
        },
        "id": "qR3E2EOq2v6f",
        "outputId": "5110c1b5-5077-49c9-93b4-822d7d88bd9c"
      },
      "execution_count": null,
      "outputs": [
        {
          "output_type": "stream",
          "name": "stdout",
          "text": [
            "Precision: 0.803 / Recall: 0.96 / Accuracy: 0.786\n"
          ]
        }
      ]
    },
    {
      "cell_type": "markdown",
      "source": [
        "# Confusion Matrix"
      ],
      "metadata": {
        "id": "Op06_Gq985_o"
      }
    },
    {
      "cell_type": "code",
      "source": [
        "accuracy=metrics.accuracy_score(y_test_en,y_pred)\n",
        "print('accuracy: %0.3f'%accuracy)\n",
        "cm=metrics.confusion_matrix(y_test_en, y_pred)\n",
        "#plot_confusion_matrix(cm , classes=['FAKE','TRUE'])\n",
        "plt.figure()\n",
        "plot_confusion_matrix(cm, figsize=(12,8), hide_ticks=True, cmap=plt.cm.Blues)\n",
        "plt.xticks(range(2), ['Clickbait','Not clickbait'], fontsize=16)\n",
        "plt.yticks(range(2), ['Clickbait','Not clickbait'], fontsize=16)\n",
        "plt.show()"
      ],
      "metadata": {
        "colab": {
          "base_uri": "https://localhost:8080/",
          "height": 537
        },
        "id": "vztPRcFE6tAT",
        "outputId": "c36324d5-833d-478b-9290-e1e34b63041c"
      },
      "execution_count": null,
      "outputs": [
        {
          "output_type": "stream",
          "name": "stdout",
          "text": [
            "accuracy: 0.786\n"
          ]
        },
        {
          "output_type": "display_data",
          "data": {
            "text/plain": [
              "<Figure size 432x288 with 0 Axes>"
            ]
          },
          "metadata": {}
        },
        {
          "output_type": "display_data",
          "data": {
            "text/plain": [
              "<Figure size 864x576 with 1 Axes>"
            ],
            "image/png": "[encoded data removed]"
          },
          "metadata": {
            "needs_background": "light"
          }
        }
      ]
    },
    {
      "cell_type": "markdown",
      "source": [
        "# Accuracy Plot"
      ],
      "metadata": {
        "id": "vN7Qdwyj8_5U"
      }
    },
    {
      "cell_type": "code",
      "source": [
        "from sklearn.metrics import classification_report\n",
        "print(classification_report(y_test_en, y_pred, target_names=['Clickbait','Not clickbait']))"
      ],
      "metadata": {
        "colab": {
          "base_uri": "https://localhost:8080/"
        },
        "id": "4gcP2eNtDLZ-",
        "outputId": "0d42591b-7e1f-477c-aa3d-10626069fb13"
      },
      "execution_count": null,
      "outputs": [
        {
          "output_type": "stream",
          "name": "stdout",
          "text": [
            "               precision    recall  f1-score   support\n",
            "\n",
            "    Clickbait       0.58      0.19      0.29      1579\n",
            "Not clickbait       0.80      0.96      0.87      5419\n",
            "\n",
            "     accuracy                           0.79      6998\n",
            "    macro avg       0.69      0.58      0.58      6998\n",
            " weighted avg       0.75      0.79      0.74      6998\n",
            "\n"
          ]
        }
      ]
    }
  ]
}